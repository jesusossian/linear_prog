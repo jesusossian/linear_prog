{
 "cells": [
  {
   "cell_type": "markdown",
   "metadata": {},
   "source": [
    "# Uncapacitated facility location problem"
   ]
  },
  {
   "cell_type": "markdown",
   "metadata": {},
   "source": [
    "Considere a formulação do facility location problem apresentado em sala de aula.\n",
    "\n",
    "$\n",
    "\\begin{align}\n",
    "\\min \\ & \\sum_{i \\in M} \\sum_{j \\in N} c_{ij} x_{ij} + \\sum_{j \\in N} f_j y_j \\\\\n",
    "& \\sum_{j \\in N} x_{ij} = 1 \\ \\text{ for } i=1, \\ldots, m \\\\\n",
    "& \\sum_{i \\in M} x_{ij} \\leq m \\cdot y_j \\text{ for } j \\in N \\\\\n",
    "& x_{ij} \\geq 0 \\text{ for } i \\in M, j \\in N \\\\\n",
    "& y_j \\in \\{ 0, 1 \\} \\text{ for } j \\in N\n",
    "\\end{align}\n",
    "$\n",
    "\n",
    "Resolva uma instância do uncapacitated facility problem onde $f_j$ é o custo do depósito $j$ aberto, e $c_{ij}$ é o custo da satisfação da demanda de todos os clientes $i$'s pelo depósito $j$, com \n",
    "\n",
    "* número de clientes: 6\n",
    "\n",
    "* número de depósitos: 5\n",
    "\n",
    "* custos fixo:\n",
    "\n",
    "$\n",
    "f = [4,3,4,4,7]\n",
    "$\n",
    "\n",
    "* custo de transporte:\n",
    "\n",
    "$\n",
    "c = \n",
    "\\left[\n",
    "\\begin{array}{ccccc}\n",
    "12 & 13 & 6 & 0 & 1 \\\\\n",
    "8 & 4 & 9 & 1 & 2 \\\\\n",
    "2 & 6 & 6 & 0 & 1 \\\\\n",
    "3 & 5 & 2 & 1 & 8 \\\\\n",
    "8 & 0 & 5 & 10 & 8 \\\\\n",
    "2 & 0 & 3 & 4 & 1\n",
    "\\end{array}\n",
    "\\right]\n",
    "$\n"
   ]
  },
  {
   "cell_type": "code",
   "execution_count": 1,
   "metadata": {},
   "outputs": [],
   "source": [
    "# dimensões\n",
    "m = 6\n",
    "n = 5\n",
    "\n",
    "# custos fixo\n",
    "f = [4, 3, 4, 4, 7]\n",
    "\n",
    "# custo de transporte\n",
    "c = [[12, 13, 6, 0, 1],\n",
    "     [8, 4, 9, 1, 2],\n",
    "     [2, 6, 6, 0, 1],\n",
    "     [3, 5, 2, 1, 8],\n",
    "     [8, 0, 5, 10, 8],\n",
    "     [2, 0, 3, 4, 1]]\n",
    "\n",
    "# conjuntos\n",
    "N = range(n)\n",
    "M = range(m)"
   ]
  },
  {
   "cell_type": "code",
   "execution_count": 3,
   "metadata": {},
   "outputs": [],
   "source": [
    "# importando bibliotecas\n",
    "import gurobipy as gp\n",
    "from gurobipy import GRB"
   ]
  },
  {
   "cell_type": "code",
   "execution_count": 5,
   "metadata": {},
   "outputs": [
    {
     "name": "stdout",
     "output_type": "stream",
     "text": [
      "Gurobi Optimizer version 10.0.0 build v10.0.0rc2 (linux64)\n",
      "\n",
      "CPU model: Intel(R) Core(TM) i5-1035G1 CPU @ 1.00GHz, instruction set [SSE2|AVX|AVX2|AVX512]\n",
      "Thread count: 4 physical cores, 8 logical processors, using up to 8 threads\n",
      "\n",
      "Optimize a model with 11 rows, 35 columns and 65 nonzeros\n",
      "Model fingerprint: 0x8463997b\n",
      "Variable types: 30 continuous, 5 integer (5 binary)\n",
      "Coefficient statistics:\n",
      "  Matrix range     [1e+00, 6e+00]\n",
      "  Objective range  [1e+00, 1e+01]\n",
      "  Bounds range     [1e+00, 1e+00]\n",
      "  RHS range        [1e+00, 1e+00]\n",
      "Presolve time: 0.00s\n",
      "Presolved: 11 rows, 35 columns, 65 nonzeros\n",
      "Variable types: 30 continuous, 5 integer (5 binary)\n",
      "Found heuristic solution: objective 9.0000000\n",
      "\n",
      "Root relaxation: objective 5.666667e+00, 2 iterations, 0.00 seconds (0.00 work units)\n",
      "\n",
      "    Nodes    |    Current Node    |     Objective Bounds      |     Work\n",
      " Expl Unexpl |  Obj  Depth IntInf | Incumbent    BestBd   Gap | It/Node Time\n",
      "\n",
      "     0     0    5.66667    0    2    9.00000    5.66667  37.0%     -    0s\n",
      "     0     0     cutoff    0         9.00000    9.00000  0.00%     -    0s\n",
      "\n",
      "Explored 1 nodes (4 simplex iterations) in 0.01 seconds (0.00 work units)\n",
      "Thread count was 8 (of 8 available processors)\n",
      "\n",
      "Solution count 1: 9 \n",
      "\n",
      "Optimal solution found (tolerance 1.00e-04)\n",
      "Best objective 9.000000000000e+00, best bound 9.000000000000e+00, gap 0.0000%\n"
     ]
    }
   ],
   "source": [
    "# criando o modelo\n",
    "model = gp.Model(\"ufl\")\n",
    "\n",
    "# definindo a variável binária y\n",
    "y = model.addVars(n,vtype=GRB.BINARY,obj=f,name=\"y\")\n",
    "\n",
    "# definindo a variável de produção x\n",
    "x = model.addVars(m,n,obj=c,name=\"x\")\n",
    "\n",
    "# restrição de demanda\n",
    "model.addConstrs((x.sum(i) == 1 for i in M), \"demanda\")\n",
    "\n",
    "# link entre y e x\n",
    "model.addConstrs((x.sum('*', j) <= m*y[j] for j in N ), \"limite\")\n",
    "\n",
    "# problema de minimização\n",
    "model.modelSense = GRB.MINIMIZE\n",
    "\n",
    "# escrevendo o modelo\n",
    "model.write('ufl.lp')\n",
    "\n",
    "# resolvendo o problema\n",
    "model.optimize()"
   ]
  },
  {
   "cell_type": "code",
   "execution_count": 10,
   "metadata": {},
   "outputs": [
    {
     "name": "stdout",
     "output_type": "stream",
     "text": [
      "Solução ótima:  9.0\n",
      "solução ótima:\n",
      "y[1] = 1.0\n",
      "y[3] = 1.0\n",
      "x[0,3] = 1.0\n",
      "x[1,3] = 1.0\n",
      "x[2,3] = 1.0\n",
      "x[3,3] = 1.0\n",
      "x[4,1] = 1.0\n",
      "x[5,1] = 1.0\n"
     ]
    }
   ],
   "source": [
    "# imprimindo o valor ótimo\n",
    "print(f'Solução ótima:  {model.objVal}')\n",
    "\n",
    "# imprimindo a solução ótima\n",
    "print(\"solução ótima:\")\n",
    "for j in model.getVars():\n",
    "    if j.x > 0:\n",
    "        print(f'{j.varName} = {j.x}')\n"
   ]
  },
  {
   "cell_type": "code",
   "execution_count": null,
   "metadata": {},
   "outputs": [],
   "source": []
  }
 ],
 "metadata": {
  "kernelspec": {
   "display_name": "Python 3",
   "language": "python",
   "name": "python3"
  },
  "language_info": {
   "codemirror_mode": {
    "name": "ipython",
    "version": 3
   },
   "file_extension": ".py",
   "mimetype": "text/x-python",
   "name": "python",
   "nbconvert_exporter": "python",
   "pygments_lexer": "ipython3",
   "version": "3.10.12"
  }
 },
 "nbformat": 4,
 "nbformat_minor": 2
}
