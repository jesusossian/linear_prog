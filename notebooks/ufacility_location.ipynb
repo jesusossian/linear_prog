{
 "cells": [
  {
   "cell_type": "markdown",
   "metadata": {},
   "source": [
    "# Uncapacitated facility location problem"
   ]
  },
  {
   "cell_type": "markdown",
   "metadata": {},
   "source": [
    "Considere a formulação do facility location problem.\n",
    "\n",
    "$\n",
    "\\begin{align}\n",
    "\\min \\ & \\sum_{i \\in M} \\sum_{j \\in N} c_{ij} x_{ij} + \\sum_{j \\in N} f_j y_j \\\\\n",
    "& \\sum_{j \\in N} x_{ij} = 1 \\ \\text{ for } i=1, \\ldots, m \\\\\n",
    "& \\sum_{i \\in M} x_{ij} \\leq m \\cdot y_j \\text{ for } j \\in N \\\\\n",
    "& x_{ij} \\geq 0 \\text{ for } i \\in M, j \\in N \\\\\n",
    "& y_j \\in \\{ 0, 1 \\} \\text{ for } j \\in N\n",
    "\\end{align}\n",
    "$"
   ]
  },
  {
   "cell_type": "markdown",
   "metadata": {},
   "source": [
    "Resolva uma instância do uncapacitated facility problem onde \n",
    "\n",
    "* número de clientes: 6\n",
    "* número de depósitos: 5\n",
    "* $f_j$ é o custo do depósito $j$ aberto \n",
    "\n",
    "$\n",
    "f = [4,3,4,4,7]\n",
    "$\n",
    "* $c_{ij}$ é o custo da satisfação da demanda de todos os clientes $i$'s pelo depósito $j$ \n",
    "\n",
    "$\n",
    "c = \n",
    "\\left[\n",
    "\\begin{array}{ccccc}\n",
    "12 & 13 & 6 & 0 & 1 \\\\\n",
    "8 & 4 & 9 & 1 & 2 \\\\\n",
    "2 & 6 & 6 & 0 & 1 \\\\\n",
    "3 & 5 & 2 & 1 & 8 \\\\\n",
    "8 & 0 & 5 & 10 & 8 \\\\\n",
    "2 & 0 & 3 & 4 & 1\n",
    "\\end{array}\n",
    "\\right]\n",
    "$"
   ]
  },
  {
   "cell_type": "code",
   "execution_count": 1,
   "metadata": {},
   "outputs": [],
   "source": [
    "# dimensões\n",
    "m = 6\n",
    "n = 5\n",
    "\n",
    "# custos fixo\n",
    "f = [4, 3, 4, 4, 7]\n",
    "\n",
    "# custo de transporte\n",
    "c = [[12, 13, 6, 0, 1],\n",
    "     [8, 4, 9, 1, 2],\n",
    "     [2, 6, 6, 0, 1],\n",
    "     [3, 5, 2, 1, 8],\n",
    "     [8, 0, 5, 10, 8],\n",
    "     [2, 0, 3, 4, 1]]\n",
    "\n",
    "# conjuntos\n",
    "N = range(n)\n",
    "M = range(m)"
   ]
  },
  {
   "cell_type": "code",
   "execution_count": null,
   "metadata": {},
   "outputs": [],
   "source": [
    "# importando bibliotecas\n",
    "import gurobipy as gp\n",
    "from gurobipy import GRB"
   ]
  },
  {
   "cell_type": "code",
   "execution_count": null,
   "metadata": {},
   "outputs": [],
   "source": [
    "# criando o modelo\n",
    "model = gp.Model(\"ufl\")\n",
    "\n",
    "# definindo a variável binária y\n",
    "y = model.addVars(n,vtype=GRB.BINARY,obj=f,name=\"y\")\n",
    "\n",
    "# definindo a variável de produção x\n",
    "x = model.addVars(m,n,obj=c,name=\"x\")\n",
    "\n",
    "# restrição de demanda\n",
    "model.addConstrs((x.sum(i) == 1 for i in M), \"demanda\")\n",
    "\n",
    "# link entre y e x\n",
    "model.addConstrs((x.sum('*', j) <= m*y[j] for j in N ), \"limite\")\n",
    "\n",
    "# problema de minimização\n",
    "model.modelSense = GRB.MINIMIZE\n",
    "\n",
    "# escrevendo o modelo\n",
    "model.write('ufl.lp')\n",
    "\n",
    "# resolvendo o problema\n",
    "model.optimize()"
   ]
  },
  {
   "cell_type": "code",
   "execution_count": null,
   "metadata": {},
   "outputs": [],
   "source": [
    "# imprimindo o valor ótimo\n",
    "print(f'Solução ótima:  {model.objVal}')\n",
    "\n",
    "# imprimindo a solução ótima\n",
    "print(\"solução ótima:\")\n",
    "for j in model.getVars():\n",
    "    if j.x > 0:\n",
    "        print(f'{j.varName} = {j.x}')\n"
   ]
  },
  {
   "cell_type": "code",
   "execution_count": null,
   "metadata": {},
   "outputs": [],
   "source": []
  }
 ],
 "metadata": {
  "kernelspec": {
   "display_name": "Python 3",
   "language": "python",
   "name": "python3"
  },
  "language_info": {
   "codemirror_mode": {
    "name": "ipython",
    "version": 3
   },
   "file_extension": ".py",
   "mimetype": "text/x-python",
   "name": "python",
   "nbconvert_exporter": "python",
   "pygments_lexer": "ipython3",
   "version": "3.10.12"
  }
 },
 "nbformat": 4,
 "nbformat_minor": 2
}
