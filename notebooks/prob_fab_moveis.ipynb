{
 "cells": [
  {
   "cell_type": "markdown",
   "metadata": {},
   "source": [
    "# Problema da fabricação de moveis"
   ]
  },
  {
   "cell_type": "markdown",
   "metadata": {},
   "source": [
    "- Um cientista de dados está trabalhando em um projeto para decidir um plano de produção para a fabricação de dois produtos, mesas e cadeiras, durante uma semana. \n",
    "Foi previsto que o preço de venda de uma cadeira será R\\$ 45.00 e o preço de venda de uma mesa será R\\$ 80.00.\n",
    "\n",
    "- No projeto são consideradas duas restrições que devem ser respeitadas:\n",
    "    - Existem 400 unidades de mogno disponíveis no inicio da semana.\n",
    "    - Existem 450 unidades de mão-de-obra disponível durante cada semana.\n",
    "\n",
    "- O cientista de dados estima que:\n",
    "    - Uma cadeira requer 5 unidades de mogno e 10 unidades de mão-de-obra.\n",
    "    - Uma mesa requer 20 unidades de mogno e 15 unidades de mão-de-obra.\n",
    "\n",
    "- Qual é o plano de produção que maximize a receita com venda de cadeiras e mesas?"
   ]
  },
  {
   "cell_type": "markdown",
   "metadata": {},
   "source": [
    "- Para determina um plano de produção necessitamos decidi quantas cadeiras e quantas mesas serão produzidas de forma que a receita total seja maximizada, enquanto as restrições são satisfeitas.\n",
    "\n",
    "- A seguir a tabela com os dados do problema:\n",
    "\n",
    "| materia-prima  | cadeira  | mesa     | capacidade |\n",
    "|----------------|----------|----------|------------|\n",
    "| mogno          | 5 un     | 20 un    | 400 un     |\n",
    "| mão-de-obra    | 10 un    | 15 un    | 450 un     |\n",
    "| preço de venda | R\\$ 45.00 | R\\$ 80.00 |            |\n",
    "\n",
    "- Suponha que é possível produzir e vender parte fracional das quantidades de cadeiras e mesas."
   ]
  },
  {
   "cell_type": "markdown",
   "metadata": {},
   "source": [
    "## Formulação do problema\n",
    "\n",
    "1. Variáveis:\n",
    "    - $x_1$: número de cadeiras a se produzir.\n",
    "    - $x_2$: número de mesas a se produzir.\n",
    "\n",
    "\n",
    "2. Função objetivo do problema:\n",
    "$$\n",
    "\\max 45 x_1 + 80 x_2 \n",
    "$$\n",
    "\n",
    "3. Restrições\n",
    "\n",
    "- A quantidade de mogno consumido na produção de cadeiras e mesas não poderá exceder a quantidade de mogno disponível.\n",
    "$$\n",
    "5 x_1 + 20 x_2 \\leq 400\n",
    "$$\n",
    "\n",
    "- A quantidade de mão-de-obra consumida na produção de cadeiras e mesas não poderá exceder a capacidade de mão-de-obra.\n",
    "$$\n",
    "10 x_1 + 15 x_2 \\leq 450\n",
    "$$\n",
    "\n",
    "\n"
   ]
  },
  {
   "cell_type": "markdown",
   "metadata": {},
   "source": [
    "## Formulação do problema como um PPL\n",
    "$\n",
    "\\begin{align} \\notag\n",
    "\\max \\ & 45 x_1 + 80 x_2 \\\\ \\notag\n",
    "& 5 x_1 + 20 x_2 \\leq 400 \\\\ \\notag\n",
    "& 10 x_1 + 15 x_2 \\leq 450 \\\\ \\notag\n",
    "& x_1, x_2 \\geq 0\n",
    "\\end{align}\n",
    "$\n"
   ]
  },
  {
   "cell_type": "markdown",
   "metadata": {},
   "source": [
    "## Resolvendo o problema com Gurobi\n",
    "\n",
    "- importar bibliotecas\n",
    "- criar modelo\n",
    "    - definir variáveis\n",
    "    - definir restrições\n",
    "    - definir função objetivo\n",
    "- resolver o problema\n",
    "- imprimir soluções"
   ]
  },
  {
   "cell_type": "code",
   "execution_count": null,
   "metadata": {},
   "outputs": [],
   "source": [
    "# importa as bibliotecas\n",
    "import gurobipy as gp\n",
    "from gurobipy import GRB"
   ]
  },
  {
   "cell_type": "code",
   "execution_count": null,
   "metadata": {},
   "outputs": [],
   "source": [
    "# criando o modelo\n",
    "model = gp.Model()"
   ]
  },
  {
   "cell_type": "code",
   "execution_count": null,
   "metadata": {},
   "outputs": [],
   "source": [
    "# criando as variaveis\n",
    "x1 = model.addVar(vtype=GRB.INTEGER,name=\"x1\") # cadeiras\n",
    "x2 = model.addVar(vtype=GRB.INTEGER,name=\"x2\") # mesas"
   ]
  },
  {
   "cell_type": "code",
   "execution_count": null,
   "metadata": {},
   "outputs": [],
   "source": [
    "# definindo função objetivo\n",
    "model.setObjective(45*x1 + 80*x2,GRB.MAXIMIZE)"
   ]
  },
  {
   "cell_type": "code",
   "execution_count": null,
   "metadata": {},
   "outputs": [],
   "source": [
    "# adicionando as restrições\n",
    "con1 = model.addConstr(3*x1 + 20*x2 <= 400, \"mogno\")\n",
    "con2 = model.addConstr(10*x1 + 15*x2 <= 450, \"mao-de-obra\")"
   ]
  },
  {
   "cell_type": "code",
   "execution_count": null,
   "metadata": {},
   "outputs": [],
   "source": [
    "# salvando modelo\n",
    "model.write(\"moveis.lp\")"
   ]
  },
  {
   "cell_type": "code",
   "execution_count": null,
   "metadata": {},
   "outputs": [],
   "source": [
    "# resolvendo o problema\n",
    "model.optimize()"
   ]
  },
  {
   "cell_type": "code",
   "execution_count": null,
   "metadata": {},
   "outputs": [],
   "source": [
    "# imprimindo solução ótima\n",
    "print(\"Solução ótima\")\n",
    "for v in model.getVars():\n",
    "    print(f'{v.varName} = {v.x}')"
   ]
  },
  {
   "cell_type": "code",
   "execution_count": null,
   "metadata": {},
   "outputs": [],
   "source": [
    "# imprimindo valor ótimo\n",
    "print(f\"Receita = {model.objVal}\")"
   ]
  },
  {
   "cell_type": "code",
   "execution_count": null,
   "metadata": {},
   "outputs": [],
   "source": []
  }
 ],
 "metadata": {
  "kernelspec": {
   "display_name": "Python 3",
   "language": "python",
   "name": "python3"
  },
  "language_info": {
   "codemirror_mode": {
    "name": "ipython",
    "version": 3
   },
   "file_extension": ".py",
   "mimetype": "text/x-python",
   "name": "python",
   "nbconvert_exporter": "python",
   "pygments_lexer": "ipython3",
   "version": "3.10.12"
  }
 },
 "nbformat": 4,
 "nbformat_minor": 2
}
