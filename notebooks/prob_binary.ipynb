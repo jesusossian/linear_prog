{
 "cells": [
  {
   "cell_type": "markdown",
   "metadata": {},
   "source": [
    "# Binary problem\n",
    "\n",
    "- Considere o seguinte problema:\n",
    "\n",
    "    - Você precisa decidir sobre três tarefas(se executa ou não) e deseja obter um valor máximo associado a execução dessas tarefas.\n",
    "\n",
    "    - Você necessita escolher se executa a tarefa 1 ou executa a tarefa 2 ou executa ambas.\n",
    "\n",
    "    - O tempo total limite para executar essas três tarefa é igual a 4 horas, sendo que:\n",
    "        - a tarefa 1 dura 1 hora.\n",
    "        - a tarefa 2 dura 2 horas.\n",
    "        - a tarefa 3 dura 3 horas.\n",
    "\n",
    "    -  A tarefa 3 vale o dobro das atividades 1 e 2.\n",
    "\n",
    "\n",
    "- Este problema pode ser modelado como um problema inteiro binário.\n",
    "    - Variáveis binárias $x, y$ e $z$ para as tarefas 1,2 e 3, respectivamente.\n",
    "    - Restrição linear para o tempo limite para execução das tarefas.\n",
    "    - Restrição linear para o condição de execução das tarefas 1 ou 2.\n",
    "    - Restrição linear para a função objetivo.\n",
    "\n",
    "\n",
    "- Formulação do problema:\n",
    "$\n",
    "\\begin{align} \\notag\n",
    "\\max \\ & x + y + 2z \\\\ \\notag\n",
    "& x + 2y + 3z \\leq 4 \\\\ \\notag\n",
    "& x + y \\geq 1 \\\\ \\notag\n",
    "& x, y, z \\in \\{ 0, 1 \\} \\notag\n",
    "\\end{align}\n",
    "$\n"
   ]
  },
  {
   "cell_type": "code",
   "execution_count": 1,
   "metadata": {},
   "outputs": [],
   "source": [
    "# importa as bibliotecas\n",
    "import gurobipy as gp\n",
    "from gurobipy import GRB"
   ]
  },
  {
   "cell_type": "code",
   "execution_count": 2,
   "metadata": {},
   "outputs": [
    {
     "name": "stdout",
     "output_type": "stream",
     "text": [
      "Set parameter Username\n",
      "Academic license - for non-commercial use only - expires 2026-02-19\n",
      "Warning: Gurobi version mismatch between Python 10.0.3 and C library 10.0.0\n"
     ]
    }
   ],
   "source": [
    "# criando o modelo\n",
    "model = gp.Model()"
   ]
  },
  {
   "cell_type": "code",
   "execution_count": 3,
   "metadata": {},
   "outputs": [],
   "source": [
    "# adicionando as variaveis\n",
    "x = model.addVar(vtype = GRB.BINARY, name = \"x\")\n",
    "y = model.addVar(vtype = GRB.BINARY, name = \"y\")\n",
    "z = model.addVar(vtype = GRB.BINARY, name = \"z\")"
   ]
  },
  {
   "cell_type": "code",
   "execution_count": 4,
   "metadata": {},
   "outputs": [],
   "source": [
    "# definindo a funcao objetivo\n",
    "model.setObjective(x + y + 2*z, GRB.MAXIMIZE)"
   ]
  },
  {
   "cell_type": "code",
   "execution_count": 5,
   "metadata": {},
   "outputs": [],
   "source": [
    "# adicionando as restrições\n",
    "rest1 = model.addConstr(x + 2*y + 3*z <= 4)\n",
    "rest2 = model.addConstr(x + y >= 1)\n",
    "rest2 = model.addConstr(x + y <= 2)"
   ]
  },
  {
   "cell_type": "code",
   "execution_count": 6,
   "metadata": {},
   "outputs": [],
   "source": [
    "# exportando .lp ou .mps\n",
    "model.write(\"binary_problem.mps\")"
   ]
  },
  {
   "cell_type": "code",
   "execution_count": 7,
   "metadata": {},
   "outputs": [
    {
     "name": "stdout",
     "output_type": "stream",
     "text": [
      "Gurobi Optimizer version 10.0.0 build v10.0.0rc2 (linux64)\n",
      "\n",
      "CPU model: Intel(R) Core(TM) i5-1035G1 CPU @ 1.00GHz, instruction set [SSE2|AVX|AVX2|AVX512]\n",
      "Thread count: 4 physical cores, 8 logical processors, using up to 8 threads\n",
      "\n",
      "Optimize a model with 3 rows, 3 columns and 7 nonzeros\n",
      "Model fingerprint: 0x6edd5f38\n",
      "Variable types: 0 continuous, 3 integer (3 binary)\n",
      "Coefficient statistics:\n",
      "  Matrix range     [1e+00, 3e+00]\n",
      "  Objective range  [1e+00, 2e+00]\n",
      "  Bounds range     [1e+00, 1e+00]\n",
      "  RHS range        [1e+00, 4e+00]\n",
      "Found heuristic solution: objective 2.0000000\n",
      "Presolve removed 3 rows and 3 columns\n",
      "Presolve time: 0.00s\n",
      "Presolve: All rows and columns removed\n",
      "\n",
      "Explored 0 nodes (0 simplex iterations) in 0.01 seconds (0.00 work units)\n",
      "Thread count was 1 (of 8 available processors)\n",
      "\n",
      "Solution count 2: 3 2 \n",
      "\n",
      "Optimal solution found (tolerance 1.00e-04)\n",
      "Best objective 3.000000000000e+00, best bound 3.000000000000e+00, gap 0.0000%\n"
     ]
    }
   ],
   "source": [
    "# resolvendo o problema\n",
    "model.optimize()"
   ]
  },
  {
   "cell_type": "code",
   "execution_count": 8,
   "metadata": {},
   "outputs": [
    {
     "name": "stdout",
     "output_type": "stream",
     "text": [
      "x = 1.0\n",
      "y = 0.0\n",
      "z = 1.0\n"
     ]
    }
   ],
   "source": [
    "# mostra o plano de produção encontrado\n",
    "for i in model.getVars():\n",
    "    print(f\"{i.varName} = {i.x}\")"
   ]
  },
  {
   "cell_type": "code",
   "execution_count": 9,
   "metadata": {},
   "outputs": [
    {
     "name": "stdout",
     "output_type": "stream",
     "text": [
      "Valor maximo = 3.0\n"
     ]
    }
   ],
   "source": [
    "print(f\"Valor maximo = {model.objVal}\")"
   ]
  },
  {
   "cell_type": "code",
   "execution_count": null,
   "metadata": {},
   "outputs": [],
   "source": []
  }
 ],
 "metadata": {
  "kernelspec": {
   "display_name": "Python 3",
   "language": "python",
   "name": "python3"
  },
  "language_info": {
   "codemirror_mode": {
    "name": "ipython",
    "version": 3
   },
   "file_extension": ".py",
   "mimetype": "text/x-python",
   "name": "python",
   "nbconvert_exporter": "python",
   "pygments_lexer": "ipython3",
   "version": "3.10.12"
  }
 },
 "nbformat": 4,
 "nbformat_minor": 2
}
