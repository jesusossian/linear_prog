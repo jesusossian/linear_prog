{
 "cells": [
  {
   "cell_type": "markdown",
   "metadata": {},
   "source": [
    "# Capacitated facility location problem"
   ]
  },
  {
   "cell_type": "markdown",
   "metadata": {},
   "source": [
    "Uma companhia entrega diariamente seus produtos que são produzidos em 5 fábricas para 4 armazens. \n",
    "\n",
    "Nesse processo de entrega existem dois tipos de custos, o custo associado ao transporte e o custo fixo de uso da fábrica. \n",
    "\n",
    "Cada fábrica possui um limite quanto a quantidade de produtos a serem entregues. \n",
    "\n",
    "A companhia estuda fechar algumas fábricas para reduzir custos. \n",
    "\n",
    "Quais fábricas a companhia deve fechar, com a finalidade de reduzir os custos?"
   ]
  },
  {
   "cell_type": "code",
   "execution_count": 2,
   "metadata": {},
   "outputs": [],
   "source": [
    "# importando bibliotecas\n",
    "import gurobipy as gp\n",
    "from gurobipy import GRB"
   ]
  },
  {
   "cell_type": "code",
   "execution_count": 3,
   "metadata": {},
   "outputs": [],
   "source": [
    "# Dados\n",
    "\n",
    "# demanda dos armazéns\n",
    "demand = [15, 18, 14, 20]\n",
    "\n",
    "# capacidade de produção da cada fábrica\n",
    "capacity = [20, 22, 17, 19, 18]\n",
    "\n",
    "# custo fixo de cada fábrica\n",
    "fixedCosts = [12000, 15000, 17000, 13000, 16000]\n",
    "\n",
    "# custo de transporte\n",
    "transCosts = [[4000, 2000, 3000, 2500, 4500],\n",
    "              [2500, 2600, 3400, 3000, 4000],\n",
    "              [1200, 1800, 2600, 4100, 3000],\n",
    "              [2200, 2600, 3100, 3700, 3200]]\n",
    "\n",
    "# quantidade de fábricas\n",
    "plants = range(len(capacity))\n",
    "\n",
    "# quantidade de armazéns\n",
    "warehouses = range(len(demand))"
   ]
  },
  {
   "cell_type": "code",
   "execution_count": 4,
   "metadata": {},
   "outputs": [
    {
     "name": "stdout",
     "output_type": "stream",
     "text": [
      "Set parameter Username\n",
      "Academic license - for non-commercial use only - expires 2025-02-20\n",
      "Warning: Gurobi version mismatch between Python 10.0.3 and C library 10.0.0\n"
     ]
    }
   ],
   "source": [
    "# criando modelo\n",
    "model = gp.Model(\"cfl\")\n"
   ]
  },
  {
   "cell_type": "code",
   "execution_count": 5,
   "metadata": {},
   "outputs": [],
   "source": [
    "# y[p]: y[p] == 1 se a fábrica p é aberta, 0 caso contrário.\n",
    "y = model.addVars(plants,vtype=GRB.BINARY,obj=fixedCosts,name=\"y\")"
   ]
  },
  {
   "cell_type": "code",
   "execution_count": 6,
   "metadata": {},
   "outputs": [],
   "source": [
    "# x[w,p]: quantidade transportada da fábrica p para o armazém i\n",
    "x = model.addVars(warehouses, plants, obj=transCosts, name=\"x\")"
   ]
  },
  {
   "cell_type": "code",
   "execution_count": 7,
   "metadata": {},
   "outputs": [],
   "source": [
    "# função objetivo\n",
    "model.modelSense = GRB.MINIMIZE\n",
    "model.update()"
   ]
  },
  {
   "cell_type": "code",
   "execution_count": 8,
   "metadata": {},
   "outputs": [],
   "source": [
    "# restrição de produção\n",
    "model.addConstrs((x.sum('*', p) <= capacity[p] * y[p] for p in plants), \"capacidade\")\n",
    "model.update()"
   ]
  },
  {
   "cell_type": "code",
   "execution_count": 9,
   "metadata": {},
   "outputs": [],
   "source": [
    "# restrição de demanda\n",
    "model.addConstrs((x.sum(w,'*') == demand[w] for w in warehouses), \"demanda\")\n",
    "model.update()\n"
   ]
  },
  {
   "cell_type": "code",
   "execution_count": 10,
   "metadata": {},
   "outputs": [],
   "source": [
    "# salva o modelo\n",
    "model.write('cfacility_location.lp')"
   ]
  },
  {
   "cell_type": "code",
   "execution_count": 11,
   "metadata": {},
   "outputs": [
    {
     "name": "stdout",
     "output_type": "stream",
     "text": [
      "Set parameter Method to value 2\n"
     ]
    }
   ],
   "source": [
    "# usa o método barrier para resolver o relaxação linear na raiz\n",
    "model.Params.method = 2\n"
   ]
  },
  {
   "cell_type": "code",
   "execution_count": 12,
   "metadata": {},
   "outputs": [
    {
     "name": "stdout",
     "output_type": "stream",
     "text": [
      "Gurobi Optimizer version 10.0.0 build v10.0.0rc2 (linux64)\n",
      "\n",
      "CPU model: Intel(R) Core(TM) i5-1035G1 CPU @ 1.00GHz, instruction set [SSE2|AVX|AVX2|AVX512]\n",
      "Thread count: 4 physical cores, 8 logical processors, using up to 8 threads\n",
      "\n",
      "Optimize a model with 9 rows, 25 columns and 45 nonzeros\n",
      "Model fingerprint: 0xb5a24dbe\n",
      "Variable types: 20 continuous, 5 integer (5 binary)\n",
      "Coefficient statistics:\n",
      "  Matrix range     [1e+00, 2e+01]\n",
      "  Objective range  [1e+03, 2e+04]\n",
      "  Bounds range     [1e+00, 1e+00]\n",
      "  RHS range        [1e+01, 2e+01]\n",
      "Presolve time: 0.00s\n",
      "Presolved: 9 rows, 25 columns, 45 nonzeros\n",
      "Variable types: 20 continuous, 5 integer (5 binary)\n",
      "Found heuristic solution: objective 210900.00000\n",
      "Root barrier log...\n",
      "\n",
      "Ordering time: 0.00s\n",
      "\n",
      "Barrier statistics:\n",
      " AA' NZ     : 2.000e+01\n",
      " Factor NZ  : 4.500e+01\n",
      " Factor Ops : 2.850e+02 (less than 1 second per iteration)\n",
      " Threads    : 1\n",
      "\n",
      "                  Objective                Residual\n",
      "Iter       Primal          Dual         Primal    Dual     Compl     Time\n",
      "   0   7.94290841e+05 -2.24842916e+05  7.25e+00 3.75e+03  2.69e+04     0s\n",
      "   1   2.34432856e+05  7.59319096e+04  9.99e-16 7.28e-12  3.17e+03     0s\n",
      "   2   2.10232015e+05  1.89880475e+05  7.77e-16 3.64e-12  4.07e+02     0s\n",
      "   3   2.00964341e+05  1.98582137e+05  4.44e-15 3.64e-12  4.76e+01     0s\n",
      "   4   1.99878036e+05  1.99804970e+05  2.98e-13 3.64e-12  1.46e+00     0s\n",
      "   5   1.99833638e+05  1.99832960e+05  1.65e-13 3.64e-12  1.36e-02     0s\n",
      "   6   1.99833333e+05  1.99833333e+05  1.07e-14 7.28e-12  1.39e-08     0s\n",
      "   7   1.99833333e+05  1.99833333e+05  7.11e-15 3.62e-12  1.39e-14     0s\n",
      "\n",
      "Barrier solved model in 7 iterations and 0.02 seconds (0.00 work units)\n",
      "Optimal objective 1.99833333e+05\n",
      "\n",
      "\n",
      "Root relaxation: objective 1.998333e+05, 6 iterations, 0.02 seconds (0.00 work units)\n",
      "\n",
      "    Nodes    |    Current Node    |     Objective Bounds      |     Work\n",
      " Expl Unexpl |  Obj  Depth IntInf | Incumbent    BestBd   Gap | It/Node Time\n",
      "\n",
      "     0     0 199833.333    0    1 210900.000 199833.333  5.25%     -    0s\n",
      "H    0     0                    210500.00000 199833.333  5.07%     -    0s\n",
      "     0     0 210500.000    0    1 210500.000 210500.000  0.00%     -    0s\n",
      "\n",
      "Cutting planes:\n",
      "  Gomory: 1\n",
      "  MIR: 2\n",
      "\n",
      "Explored 1 nodes (8 simplex iterations) in 0.03 seconds (0.00 work units)\n",
      "Thread count was 8 (of 8 available processors)\n",
      "\n",
      "Solution count 2: 210500 210900 \n",
      "\n",
      "Optimal solution found (tolerance 1.00e-04)\n",
      "Best objective 2.105000000000e+05, best bound 2.105000000000e+05, gap 0.0000%\n"
     ]
    }
   ],
   "source": [
    "model.optimize()"
   ]
  },
  {
   "cell_type": "code",
   "execution_count": 13,
   "metadata": {},
   "outputs": [
    {
     "name": "stdout",
     "output_type": "stream",
     "text": [
      "Custo total: 210500.0\n"
     ]
    }
   ],
   "source": [
    "# imprime o valor ótimo\n",
    "print(f'Custo total: {model.objVal}')\n"
   ]
  },
  {
   "cell_type": "code",
   "execution_count": 14,
   "metadata": {},
   "outputs": [
    {
     "name": "stdout",
     "output_type": "stream",
     "text": [
      "Solução ótima:\n",
      "* Fábrica 0 é aberto\n",
      "- Transporte de 14.0 unidades para o armazém 2\n",
      "- Transporte de 6.0 unidades para o armazém 3\n",
      "* Fábrica 1 é aberto\n",
      "- Transporte de 14.0 unidades para o armazém 0\n",
      "- Transporte de 8.0 unidades para o armazém 3\n",
      "* Fábrica 2 é fechada!\n",
      "* Fábrica 3 é aberto\n",
      "- Transporte de 1.0 unidades para o armazém 0\n",
      "- Transporte de 18.0 unidades para o armazém 1\n",
      "* Fábrica 4 é aberto\n",
      "- Transporte de 6.0 unidades para o armazém 3\n"
     ]
    }
   ],
   "source": [
    "print('Solução ótima:')\n",
    "for p in plants:\n",
    "    if y[p].x > 0.99:\n",
    "        print(f'* Fábrica {p} é aberto')\n",
    "        for w in warehouses:\n",
    "            if x[w, p].x > 0:\n",
    "                print(f'- Transporte de {x[w, p].x} unidades para o armazém {w}')\n",
    "    else:\n",
    "        print(f'* Fábrica {p} é fechada!')"
   ]
  },
  {
   "cell_type": "code",
   "execution_count": null,
   "metadata": {},
   "outputs": [],
   "source": []
  }
 ],
 "metadata": {
  "kernelspec": {
   "display_name": "Python 3",
   "language": "python",
   "name": "python3"
  },
  "language_info": {
   "codemirror_mode": {
    "name": "ipython",
    "version": 3
   },
   "file_extension": ".py",
   "mimetype": "text/x-python",
   "name": "python",
   "nbconvert_exporter": "python",
   "pygments_lexer": "ipython3",
   "version": "3.10.12"
  }
 },
 "nbformat": 4,
 "nbformat_minor": 2
}
