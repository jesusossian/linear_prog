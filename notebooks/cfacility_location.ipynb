{
 "cells": [
  {
   "cell_type": "markdown",
   "metadata": {},
   "source": [
    "# Capacitated facility location problem"
   ]
  },
  {
   "cell_type": "markdown",
   "metadata": {},
   "source": [
    "Uma companhia entrega diariamente seus produtos que são produzidos em 5 fábricas para 4 armazens. \n",
    "\n",
    "Nesse processo de entrega existem dois tipos de custos, o custo associado ao transporte e o custo fixo de uso da fábrica. \n",
    "\n",
    "Cada fábrica possui um limite quanto a quantidade de produtos a serem entregues. \n",
    "\n",
    "A companhia estuda fechar algumas fábricas para reduzir custos. \n",
    "\n",
    "Quais fábricas a companhia deve fechar, com a finalidade de reduzir os custos?"
   ]
  },
  {
   "cell_type": "code",
   "execution_count": null,
   "metadata": {},
   "outputs": [],
   "source": [
    "# importando bibliotecas\n",
    "import gurobipy as gp\n",
    "from gurobipy import GRB"
   ]
  },
  {
   "cell_type": "code",
   "execution_count": null,
   "metadata": {},
   "outputs": [],
   "source": [
    "# Dados\n",
    "\n",
    "# demanda dos armazéns\n",
    "demand = [15, 18, 14, 20]\n",
    "\n",
    "# capacidade de produção da cada fábrica\n",
    "capacity = [20, 22, 17, 19, 18]\n",
    "\n",
    "# custo fixo de cada fábrica\n",
    "fixedCosts = [12000, 15000, 17000, 13000, 16000]\n",
    "\n",
    "# custo de transporte\n",
    "transCosts = [[4000, 2000, 3000, 2500, 4500],\n",
    "              [2500, 2600, 3400, 3000, 4000],\n",
    "              [1200, 1800, 2600, 4100, 3000],\n",
    "              [2200, 2600, 3100, 3700, 3200]]\n",
    "\n",
    "# quantidade de fábricas\n",
    "plants = range(len(capacity))\n",
    "\n",
    "# quantidade de armazéns\n",
    "warehouses = range(len(demand))"
   ]
  },
  {
   "cell_type": "code",
   "execution_count": null,
   "metadata": {},
   "outputs": [],
   "source": [
    "# criando modelo\n",
    "model = gp.Model(\"cfl\")\n"
   ]
  },
  {
   "cell_type": "code",
   "execution_count": null,
   "metadata": {},
   "outputs": [],
   "source": [
    "# y[p]: y[p] == 1 se a fábrica p é aberta, 0 caso contrário.\n",
    "y = model.addVars(plants,vtype=GRB.BINARY,obj=fixedCosts,name=\"y\")"
   ]
  },
  {
   "cell_type": "code",
   "execution_count": null,
   "metadata": {},
   "outputs": [],
   "source": [
    "# x[w,p]: quantidade transportada da fábrica p para o armazém i\n",
    "x = model.addVars(warehouses, plants, obj=transCosts, name=\"x\")"
   ]
  },
  {
   "cell_type": "code",
   "execution_count": null,
   "metadata": {},
   "outputs": [],
   "source": [
    "# função objetivo\n",
    "model.modelSense = GRB.MINIMIZE\n",
    "model.update()"
   ]
  },
  {
   "cell_type": "code",
   "execution_count": null,
   "metadata": {},
   "outputs": [],
   "source": [
    "# restrição de produção\n",
    "model.addConstrs((x.sum('*', p) <= capacity[p] * y[p] for p in plants), \"capacidade\")\n",
    "model.update()"
   ]
  },
  {
   "cell_type": "code",
   "execution_count": null,
   "metadata": {},
   "outputs": [],
   "source": [
    "# restrição de demanda\n",
    "model.addConstrs((x.sum(w,'*') == demand[w] for w in warehouses), \"demanda\")\n",
    "model.update()\n"
   ]
  },
  {
   "cell_type": "code",
   "execution_count": null,
   "metadata": {},
   "outputs": [],
   "source": [
    "# salva o modelo\n",
    "model.write('cfacility_location.lp')"
   ]
  },
  {
   "cell_type": "code",
   "execution_count": null,
   "metadata": {},
   "outputs": [],
   "source": [
    "# usa o método barrier para resolver o relaxação linear na raiz\n",
    "model.Params.method = 2\n"
   ]
  },
  {
   "cell_type": "code",
   "execution_count": null,
   "metadata": {},
   "outputs": [],
   "source": [
    "model.optimize()"
   ]
  },
  {
   "cell_type": "code",
   "execution_count": null,
   "metadata": {},
   "outputs": [],
   "source": [
    "# imprime o valor ótimo\n",
    "print(f'Custo total: {model.objVal}')\n"
   ]
  },
  {
   "cell_type": "code",
   "execution_count": null,
   "metadata": {},
   "outputs": [],
   "source": [
    "print('Solução ótima:')\n",
    "for p in plants:\n",
    "    if y[p].x > 0.99:\n",
    "        print(f'* Fábrica {p} é aberto')\n",
    "        for w in warehouses:\n",
    "            if x[w, p].x > 0:\n",
    "                print(f'- Transporte de {x[w, p].x} unidades para o armazém {w}')\n",
    "    else:\n",
    "        print(f'* Fábrica {p} é fechada!')"
   ]
  },
  {
   "cell_type": "code",
   "execution_count": null,
   "metadata": {},
   "outputs": [],
   "source": []
  }
 ],
 "metadata": {
  "kernelspec": {
   "display_name": "Python 3",
   "language": "python",
   "name": "python3"
  },
  "language_info": {
   "codemirror_mode": {
    "name": "ipython",
    "version": 3
   },
   "file_extension": ".py",
   "mimetype": "text/x-python",
   "name": "python",
   "nbconvert_exporter": "python",
   "pygments_lexer": "ipython3",
   "version": "3.10.12"
  }
 },
 "nbformat": 4,
 "nbformat_minor": 2
}
