{
 "cells": [
  {
   "cell_type": "code",
   "execution_count": 1,
   "id": "2a7c77bd",
   "metadata": {},
   "outputs": [],
   "source": [
    "# import das biblioteca\n",
    "import gurobipy as gp\n",
    "from gurobipy import GRB\n",
    "\n",
    "import pandas as pd\n",
    "import numpy as np"
   ]
  },
  {
   "cell_type": "code",
   "execution_count": 2,
   "id": "4a3241c3",
   "metadata": {},
   "outputs": [
    {
     "name": "stdout",
     "output_type": "stream",
     "text": [
      "Academic license - for non-commercial use only - expires 2023-01-08\n",
      "Using license file /opt/gurobi912/gurobi.lic\n"
     ]
    }
   ],
   "source": [
    "# cria o modelo\n",
    "ex1 = gp.Model()\n",
    "\n",
    "# variáveis\n",
    "x1 = ex1.addVar(obj=19, name=\"x1\")\n",
    "x2 = ex1.addVar(obj=13, name=\"x2\")\n",
    "x3 = ex1.addVar(obj=12, name=\"x3\")\n",
    "x4 = ex1.addVar(obj=17, name=\"x4\")\n",
    "\n",
    "# restrições\n",
    "rest1 = ex1.addConstr(3*x1 + 2*x3 + x3 + 2*x4 <= 225, \"restricao1\")\n",
    "rest2 = ex1.addConstr(x1 + x2 + x3 + x4 <= 117, \"restricao2\")\n",
    "rest3 = ex1.addConstr(4*x1 + 3*x2 + 3*x3 + 4*x4 <= 420, \"restricao3\")\n",
    "\n",
    "# definindo sentido da funcao objetivo\n",
    "ex1.modelSense = GRB.MAXIMIZE\n",
    "\n",
    "# escrevendo .lp/.mps\n",
    "ex1.write('exemplo1.lp')"
   ]
  },
  {
   "cell_type": "code",
   "execution_count": 3,
   "id": "69f0f770",
   "metadata": {},
   "outputs": [
    {
     "name": "stdout",
     "output_type": "stream",
     "text": [
      "Gurobi Optimizer version 9.1.2 build v9.1.2rc0 (linux64)\n",
      "Thread count: 4 physical cores, 8 logical processors, using up to 8 threads\n",
      "Optimize a model with 3 rows, 4 columns and 11 nonzeros\n",
      "Model fingerprint: 0x37df804e\n",
      "Coefficient statistics:\n",
      "  Matrix range     [1e+00, 4e+00]\n",
      "  Objective range  [1e+01, 2e+01]\n",
      "  Bounds range     [0e+00, 0e+00]\n",
      "  RHS range        [1e+02, 4e+02]\n",
      "Presolve time: 0.01s\n",
      "Presolved: 3 rows, 4 columns, 11 nonzeros\n",
      "\n",
      "Iteration    Objective       Primal Inf.    Dual Inf.      Time\n",
      "       0    6.1000000e+31   9.500000e+30   6.100000e+01      0s\n",
      "       3    1.9450000e+03   0.000000e+00   0.000000e+00      0s\n",
      "\n",
      "Solved in 3 iterations and 0.01 seconds\n",
      "Optimal objective  1.945000000e+03\n"
     ]
    }
   ],
   "source": [
    "# resolve o problema\n",
    "ex1.optimize()"
   ]
  },
  {
   "cell_type": "code",
   "execution_count": 4,
   "id": "a7739758",
   "metadata": {},
   "outputs": [
    {
     "name": "stdout",
     "output_type": "stream",
     "text": [
      "x1 75.0\n",
      "x2 40.0\n",
      "x3 0.0\n",
      "x4 0.0\n"
     ]
    }
   ],
   "source": [
    "# imprime a solução ótima\n",
    "for v in ex1.getVars():\n",
    "    print(v.varName, v.x)"
   ]
  },
  {
   "cell_type": "code",
   "execution_count": null,
   "id": "f85334b1",
   "metadata": {},
   "outputs": [],
   "source": [
    "# imprime o valor ótimo\n",
    "print('Valor ótimo: ', ex1.objVal)"
   ]
  },
  {
   "cell_type": "code",
   "execution_count": null,
   "id": "45321100",
   "metadata": {},
   "outputs": [],
   "source": [
    "# problema original\n",
    "\n",
    "# cria o modelo\n",
    "ex2 = gp.Model()\n",
    "\n",
    "# variáveis\n",
    "x1 = ex2.addVar(obj=1, name=\"x1\")\n",
    "x2 = ex2.addVar(obj=1, name=\"x2\")\n",
    "\n",
    "# restrições\n",
    "rest1 = ex2.addConstr(x1 - x2 <= 2, \"restricao1\")\n",
    "rest2 = ex2.addConstr(3*x1 + 9*x2 <= 18, \"restricao2\")\n",
    "rest3 = ex2.addConstr(-2*x1 + 4*x2 <= 4, \"restricao3\")\n",
    "\n",
    "# definindo sentido da funcao objetivo\n",
    "ex2.modelSense = GRB.MAXIMIZE\n",
    "\n",
    "# escrevendo .lp/.mps\n",
    "ex2.write('exemplo2.lp')"
   ]
  },
  {
   "cell_type": "code",
   "execution_count": null,
   "id": "b1dc7f31",
   "metadata": {},
   "outputs": [],
   "source": [
    "# resolve o problema\n",
    "ex2.optimize()"
   ]
  },
  {
   "cell_type": "code",
   "execution_count": null,
   "id": "a9ed80c4",
   "metadata": {},
   "outputs": [],
   "source": [
    "# imprime a solução ótima\n",
    "for v in ex2.getVars():\n",
    "    print(v.varName, v.x)"
   ]
  },
  {
   "cell_type": "code",
   "execution_count": null,
   "id": "65acacda",
   "metadata": {},
   "outputs": [],
   "source": [
    "# imprime o valor ótimo\n",
    "print('Valor ótimo: ', ex2.objVal)"
   ]
  },
  {
   "cell_type": "code",
   "execution_count": null,
   "id": "986b7b2c",
   "metadata": {},
   "outputs": [],
   "source": [
    "# problema mestre\n",
    "\n",
    "# cria o modelo\n",
    "ex3 = gp.Model()\n",
    "\n",
    "# variáveis\n",
    "l1 = ex3.addVar(obj=0, name=\"l1\")\n",
    "l2 = ex3.addVar(obj=6, name=\"l2\")\n",
    "l3 = ex3.addVar(obj=3.8, name=\"l3\")\n",
    "l4 = ex3.addVar(obj=1, name=\"l4\")\n",
    "\n",
    "# restrições\n",
    "rest1 = ex3.addConstr(0*l1 + (6)*l2 + (-0.4)*l3 + (-1)*l4 <= 2, \"restricao1\")\n",
    "rest2 = ex3.addConstr(l1 + l2 + l3 + l4 == 1, \"restricao2\")\n",
    "\n",
    "# definindo sentido da funcao objetivo\n",
    "ex3.modelSense = GRB.MAXIMIZE\n",
    "\n",
    "# escrevendo .lp/\n",
    "ex3.write('exemplo3.lp')"
   ]
  },
  {
   "cell_type": "code",
   "execution_count": null,
   "id": "af17d5c4",
   "metadata": {},
   "outputs": [],
   "source": [
    "# resolve o problema\n",
    "ex3.optimize()"
   ]
  },
  {
   "cell_type": "code",
   "execution_count": null,
   "id": "2737f136",
   "metadata": {},
   "outputs": [],
   "source": [
    "# imprime a solução ótima\n",
    "for v in ex3.getVars():\n",
    "    print(v.varName, v.x)"
   ]
  },
  {
   "cell_type": "code",
   "execution_count": null,
   "id": "b338d2b9",
   "metadata": {},
   "outputs": [],
   "source": [
    "# imprime o valor ótimo\n",
    "print('Valor ótimo: ', ex3.objVal)"
   ]
  },
  {
   "cell_type": "code",
   "execution_count": null,
   "id": "c05dcf8b",
   "metadata": {},
   "outputs": [],
   "source": [
    "v1 = np.array([0,0])\n",
    "v2 = np.array([6,0])\n",
    "v3 = np.array([1.2,1.6])\n",
    "v4 = np.array([0,1]) "
   ]
  },
  {
   "cell_type": "code",
   "execution_count": null,
   "id": "4bb5ac59",
   "metadata": {},
   "outputs": [],
   "source": [
    "print(v1)"
   ]
  },
  {
   "cell_type": "code",
   "execution_count": null,
   "id": "f16e18a7",
   "metadata": {},
   "outputs": [],
   "source": [
    "print(v2)"
   ]
  },
  {
   "cell_type": "code",
   "execution_count": null,
   "id": "5f68ee06",
   "metadata": {},
   "outputs": [],
   "source": [
    "print(v3)"
   ]
  },
  {
   "cell_type": "code",
   "execution_count": null,
   "id": "066c533b",
   "metadata": {},
   "outputs": [],
   "source": [
    "print(v4)"
   ]
  },
  {
   "cell_type": "code",
   "execution_count": null,
   "id": "7e4bdfbf",
   "metadata": {},
   "outputs": [],
   "source": [
    "v = v1*l1.X + v2*l2.X + v3*l3.X + v4*l4.X"
   ]
  },
  {
   "cell_type": "code",
   "execution_count": null,
   "id": "954b7bbf",
   "metadata": {},
   "outputs": [],
   "source": [
    "print(v)"
   ]
  },
  {
   "cell_type": "code",
   "execution_count": null,
   "id": "8019bde3",
   "metadata": {},
   "outputs": [],
   "source": []
  }
 ],
 "metadata": {
  "kernelspec": {
   "display_name": "Python 3 (ipykernel)",
   "language": "python",
   "name": "python3"
  },
  "language_info": {
   "codemirror_mode": {
    "name": "ipython",
    "version": 3
   },
   "file_extension": ".py",
   "mimetype": "text/x-python",
   "name": "python",
   "nbconvert_exporter": "python",
   "pygments_lexer": "ipython3",
   "version": "3.8.10"
  }
 },
 "nbformat": 4,
 "nbformat_minor": 5
}
