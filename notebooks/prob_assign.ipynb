{
 "cells": [
  {
   "cell_type": "markdown",
   "metadata": {},
   "source": [
    "# Problema de atribuição de recursos"
   ]
  },
  {
   "cell_type": "markdown",
   "metadata": {},
   "source": [
    "## Descrição do problema\n",
    "\n",
    "- Considere três ofertas de trabalho: Cientista de Dados, Desenvolvedor e Arquiteto.\n",
    "\n",
    "- Considere três pessoas(recursos): Carlos, Jonas e Monica.\n",
    "\n",
    "- Considere uma medida(\\%) de competência pessoa/trabalho: percentual de competência.\n",
    "\n",
    "- Assuma que somente uma pessoa pode ser atribuida a um trabalho e no máximo um trabalho pode ser atribuido a uma pessoa.\n",
    "\n",
    "- Determine uma atribuição que assegure que cada trabalho é executado e cada pessoa é atribuido a no máximo um trabalho onde o valor percentual é maximizado.\n"
   ]
  },
  {
   "cell_type": "markdown",
   "metadata": {},
   "source": [
    "## Dados\n",
    "\n",
    "- A medida de competência/habilidade para a execução de cada trabalho por cada pessoa é ilustrado na tabela a seguir através de um valor percentual.\n",
    "\n",
    "|            | cientista | desenvolvedor | arquiteto |\n",
    "|------------|-----------|---------------|-----------|\n",
    "| Carlos     | 53\\%      | 27 \\%         | 13 \\%     |\n",
    "| Jonas      | 80 \\%     | 47 \\%         | 67 \\%     |\n",
    "| Monica     | 53 \\%     | 73 \\%         | 47 \\%     |\n"
   ]
  },
  {
   "cell_type": "markdown",
   "metadata": {},
   "source": [
    "## Modelagem\n",
    "\n",
    "- Variáveis de decisão: \n",
    "\n",
    "    $\n",
    "    x_{i,j} =\n",
    "    \\begin{cases} \n",
    "    1, & \\text{se a pessoa {\\it i} é atribuida ao trabalho {\\it j}} \\\\\n",
    "    0, & \\text{caso contrário}\n",
    "    \\end{cases}\n",
    "    $ \n",
    "\n",
    "    para $i=1,2,3$ e $j=1,2,3$.\n",
    "\n",
    "\n",
    "- Restrições:\n",
    "\n",
    "    - Restrição de trabalho: Para cada trabalho $j=1,2,3$, exatamente uma pessoa $i$ deve ser atribuida sobre $i=1,2,3$.\n",
    "        - Cientista de Dados, j=1:  $x_{1,1} + x_{2,1} + x_{3,1} = 1$\n",
    "        - Desenvolvedor, j=2: $x_{1,2} + x_{2,2} + x_{3,2} = 1$\n",
    "        - Arquiteto, j=3: $x_{1,3} + x_{2,3} + x_{3,3} = 1$\n",
    "\n",
    "    - Restrição de recursos: Para cada recurso $i=1,2,3$, no máximo um trabalho $j$ pode ser atribuido sobre $j=1,2,3$.\n",
    "        - Carlos, i=1: $x_{1,1} + x_{1,2} + x_{1,3}  \\leq 1$\n",
    "        - Jonas, i=2: $x_{2,1} + x_{2,2} + x_{2,3}  \\leq 1$\n",
    "        - Monica, i=3: $x_{3,1} + x_{3,2} + x_{3,3}  \\leq 1$\n",
    "\n",
    "- Função objetivo: maximize o percentual total máximo associado a atribuições enquanto as restrições de trabalhos e recursos são satisfeitas.\n",
    "$\n",
    "\\begin{align}\n",
    "\\max \\ &  (53 x_{1,1} + 80x_{2,1} + 53x_{3,1}) + (27x_{1,2} + 47x_{2,2} + 73x_{3,2}) + (13x_{1,3} + 67x_{2,3} + 47x_{3,3})\n",
    "\\end{align}\n",
    "$\n"
   ]
  },
  {
   "cell_type": "markdown",
   "metadata": {},
   "source": [
    "## Formulação do problema\n",
    "\n",
    "$\n",
    "\\begin{align} \\notag\n",
    "\\max \\ &  (53 x_{1,1} + 80x_{2,1} + 53x_{3,1}) + (27x_{1,2} + 47x_{2,2} + 73x_{3,2}) + (13x_{1,3} + 67x_{2,3} + 47x_{3,3}) \\\\ \\notag\n",
    "& x_{1,1} + x_{2,1} + x_{3,1} = 1 \\\\ \\notag\n",
    "& x_{1,2} + x_{2,2} + x_{3,2} = 1  \\\\ \\notag\n",
    "& x_{1,3} + x_{2,3} + x_{3,3} = 1 \\\\ \\notag\n",
    "& x_{1,1} + x_{1,2} + x_{1,3}  \\leq 1 \\\\ \\notag\n",
    "& x_{2,1} + x_{2,2} + x_{2,3}  \\leq 1 \\\\ \\notag\n",
    "& x_{3,1} + x_{3,2} + x_{3,3}  \\leq 1 \\\\ \\notag\n",
    "& x_{i,j} \\in \\{ 0, 1 \\} \\; \\forall \\; i=1,2,3, \\; j=1,2,3.\\notag\n",
    "\\end{align}\n",
    "$"
   ]
  },
  {
   "cell_type": "markdown",
   "metadata": {},
   "source": [
    "## Formulação do problema compacta\n",
    "$\n",
    "\\begin{align} \\notag\n",
    "\\max \\ & \\sum_{j \\in J} \\sum_{i \\in I} perc_{i,j}x_{i,j} \\\\ \\notag\n",
    "& \\sum_{i \\in I} x_{i,j} = 1 \\; \\; \\; \\forall \\; j \\in J \\\\ \\notag\n",
    "& \\sum_{j \\in J} x_{i,j} \\leq 1 \\; \\; \\; \\forall \\; i \\in I \\\\ \\notag\n",
    "& x_{i,j} \\in \\{ 0, 1 \\} \\; \\; \\; \\forall \\; i \\in I, \\; \\; \\forall \\; j \\in J. \\notag\n",
    "\\end{align}\n",
    "$\n"
   ]
  },
  {
   "cell_type": "code",
   "execution_count": null,
   "metadata": {},
   "outputs": [],
   "source": [
    "# importando as bibliotecas\n",
    "import gurobipy as gp\n",
    "from gurobipy import GRB"
   ]
  },
  {
   "cell_type": "code",
   "execution_count": null,
   "metadata": {},
   "outputs": [],
   "source": [
    "# conjuntos: recursos e trabalhos\n",
    "I = ['Carlos', 'Jonas', 'Monica']\n",
    "J = ['Cientista', 'Desenvolvedor', 'Arquiteto']"
   ]
  },
  {
   "cell_type": "code",
   "execution_count": null,
   "metadata": {},
   "outputs": [],
   "source": [
    "# matriz percentual\n",
    "key, perc = gp.multidict({\n",
    "    ('Carlos', 'Cientista'): 53,\n",
    "    ('Carlos', 'Desenvolvedor'): 27,\n",
    "    ('Carlos', 'Arquiteto'): 13,\n",
    "    ('Jonas', 'Cientista'): 80,\n",
    "    ('Jonas', 'Desenvolvedor'): 47,\n",
    "    ('Jonas', 'Arquiteto'): 67,\n",
    "    ('Monica', 'Cientista'): 53,\n",
    "    ('Monica', 'Desenvolvedor'): 73,\n",
    "    ('Monica', 'Arquiteto'): 47\n",
    "})"
   ]
  },
  {
   "cell_type": "code",
   "execution_count": null,
   "metadata": {},
   "outputs": [],
   "source": [
    "# definindo o modelo\n",
    "model = gp.Model(\"atribuicao\")"
   ]
  },
  {
   "cell_type": "code",
   "execution_count": null,
   "metadata": {},
   "outputs": [],
   "source": [
    "# adicionando variaveis\n",
    "x = model.addVars(key, name='x')"
   ]
  },
  {
   "cell_type": "code",
   "execution_count": null,
   "metadata": {},
   "outputs": [],
   "source": [
    "type(key)"
   ]
  },
  {
   "cell_type": "code",
   "execution_count": null,
   "metadata": {},
   "outputs": [],
   "source": [
    "key"
   ]
  },
  {
   "cell_type": "code",
   "execution_count": null,
   "metadata": {},
   "outputs": [],
   "source": [
    "type(perc)"
   ]
  },
  {
   "cell_type": "code",
   "execution_count": null,
   "metadata": {},
   "outputs": [],
   "source": [
    "type(x)"
   ]
  },
  {
   "cell_type": "code",
   "execution_count": null,
   "metadata": {},
   "outputs": [],
   "source": [
    "x"
   ]
  },
  {
   "cell_type": "code",
   "execution_count": null,
   "metadata": {},
   "outputs": [],
   "source": [
    "model.update()"
   ]
  },
  {
   "cell_type": "code",
   "execution_count": null,
   "metadata": {},
   "outputs": [],
   "source": [
    "x"
   ]
  },
  {
   "cell_type": "code",
   "execution_count": null,
   "metadata": {},
   "outputs": [],
   "source": [
    "# adicionando restricoes de trabalho\n",
    "trabalho = model.addConstrs((x.sum('*',j) == 1 for j in J), 'trabalho')"
   ]
  },
  {
   "cell_type": "code",
   "execution_count": null,
   "metadata": {},
   "outputs": [],
   "source": [
    "# adicionando restricoes de recursos(pessoas)\n",
    "pessoa = model.addConstrs((x.sum(i,'*') <= 1 for i in I), 'pessoa')"
   ]
  },
  {
   "cell_type": "code",
   "execution_count": null,
   "metadata": {},
   "outputs": [],
   "source": [
    "# definindo a funcao objetivo\n",
    "model.setObjective(x.prod(perc),GRB.MAXIMIZE)"
   ]
  },
  {
   "cell_type": "code",
   "execution_count": null,
   "metadata": {},
   "outputs": [],
   "source": [
    "model.write('atribuicao.mps')"
   ]
  },
  {
   "cell_type": "code",
   "execution_count": null,
   "metadata": {},
   "outputs": [],
   "source": [
    "model.optimize()"
   ]
  },
  {
   "cell_type": "code",
   "execution_count": null,
   "metadata": {},
   "outputs": [],
   "source": [
    "#imprimindo solucao\n",
    "for var in model.getVars():\n",
    "    if abs(var.x) > 1e-6:\n",
    "        print(f\"{var.varName} =  {var.x}\")"
   ]
  },
  {
   "cell_type": "code",
   "execution_count": null,
   "metadata": {},
   "outputs": [],
   "source": [
    "# imprimindo valor objetivo\n",
    "print(f\"Percentual total = {model.objVal}\")"
   ]
  },
  {
   "cell_type": "markdown",
   "metadata": {},
   "source": [
    "## Um novo cenário\n",
    "\n",
    "- Considere um novo cenário onde uma nova pessoa, Ana, com percentual de competência igual a 100\\% para todos os trabalhos é inserida no modelo.\n",
    "\n",
    "- Restrições\n",
    "\n",
    "    - Restrição de trabalho: Para cada trabalho $j=1,2,3$, exatamente uma pessoa $i$ deve ser atribuida sobre $i=1,2,3,4$.\n",
    "        - Cientista, i=1: $$x_{1,1} + x_{2,1} + x_{3,1} + x_{4,1} = 1$$\n",
    "        - Desenvolvedor, i=2: $$x_{1,2} + x_{2,2} + x_{3,2} + x_{4,2} = 1$$\n",
    "        - Arquiteto, i=3: $$x_{1,3} + x_{2,3} + x_{3,3} + x_{4,3}= 1$$\n",
    "\n",
    "    - Restrição de recursos: Para o recurso sobre $i=4$ no máximo um trabalho $j$  deve ser atribuido sobre $j=1,2,3$.\n",
    "        - Ana, j=4: $$x_{4,1} + x_{4,2} + x_{4,3}  \\leq 1$$\n",
    "\n",
    "\n",
    "- Função objetivo: maximizar o percentual total associado as atribuições enquanto as restrições de trabalho e recursos são satisfeitas.\n",
    "$\n",
    "\\begin{align} \\notag\n",
    "\\max \\ &  (53x_{1,1} + 80x_{2,1} + 53x_{3,1} + 100x_{4,1}) + \\\\ \\notag\n",
    "& (27x_{1,2} + 47x_{2,2} + 73x_{3,2} + 100x_{4,2}) + \\\\ \\notag\n",
    "& (13x_{1,3} + 67x_{2,3} + 47x_{3,3} + 100x_{4,3})\n",
    "\\end{align}\n",
    "$\n",
    "\n",
    "- Formulação do problema.\n",
    "\n",
    "$\n",
    "\\begin{align} \\notag\n",
    "\\max \\ &  (53x_{1,1} + 80x_{2,1} + 53x_{3,1} + 100x_{4,1}) + \\\\ \\notag\n",
    "& (27x_{1,2} + 47x_{2,2} + 73x_{3,2} + 100x_{4,2}) + \\\\ \\notag\n",
    "& (13x_{1,3} + 67x_{2,3} + 47x_{3,3} + 100x_{4,3}) \\\\ \\notag\n",
    "& x_{1,1} + x_{2,1} + x_{3,1} + x_{4,1} = 1 \\\\ \\notag\n",
    "& x_{1,2} + x_{2,2} + x_{3,2} + x_{4,2} = 1  \\\\ \\notag\n",
    "& x_{1,3} + x_{2,3} + x_{3,3} + x_{4,3} = 1 \\\\ \\notag\n",
    "& x_{1,1} + x_{1,2} + x_{1,3}  \\leq 1 \\\\ \\notag\n",
    "& x_{2,1} + x_{2,2} + x_{2,3}  \\leq 1 \\\\ \\notag\n",
    "& x_{3,1} + x_{3,2} + x_{3,3}  \\leq 1 \\\\ \\notag\n",
    "& x_{4,1} + x_{4,2} + x_{4,3}  \\leq 1 \\\\ \\notag\n",
    "& x_{i,j} \\in \\{ 0, 1 \\} \\; \\forall \\; i=1,2,3,4, \\; j=1,2,3. \n",
    "\\end{align}\n",
    "$"
   ]
  },
  {
   "cell_type": "code",
   "execution_count": null,
   "metadata": {},
   "outputs": [],
   "source": [
    "# alterando o cenario. Ana passa a fazer parte da selecao\n",
    "nperc = {('Ana','Cientista'):100, ('Ana','Desenvolvedor'):100, ('Ana','Arquiteto'):100}"
   ]
  },
  {
   "cell_type": "code",
   "execution_count": null,
   "metadata": {},
   "outputs": [],
   "source": [
    "for key, val in nperc.items():\n",
    "    i, j = key\n",
    "    x[key] = model.addVar(obj=val,\n",
    "                    name='x[{0},{1}]'.format(i,j),\n",
    "                    column=gp.Column([1],[model.getConstrByName('trabalho[{0}]'.format(j))])\n",
    "                   )"
   ]
  },
  {
   "cell_type": "code",
   "execution_count": null,
   "metadata": {},
   "outputs": [],
   "source": [
    "model.addConstr(x.sum('Ana','*') <= 1, name='pessoa[Ana]')"
   ]
  },
  {
   "cell_type": "code",
   "execution_count": null,
   "metadata": {},
   "outputs": [],
   "source": [
    "# resolver novamente\n",
    "model.optimize()"
   ]
  },
  {
   "cell_type": "code",
   "execution_count": null,
   "metadata": {},
   "outputs": [],
   "source": [
    "# imprimindo solucao\n",
    "for var in model.getVars():\n",
    "    if abs(var.x) > 1e-6:\n",
    "        print(f\"{var.varName} = {var.x}\")"
   ]
  },
  {
   "cell_type": "code",
   "execution_count": null,
   "metadata": {},
   "outputs": [],
   "source": [
    "# imprimindo o valor otimo\n",
    "print(f\"Novo percentual = {model.objVal}\")"
   ]
  },
  {
   "cell_type": "code",
   "execution_count": null,
   "metadata": {},
   "outputs": [],
   "source": [
    "# clear model\n",
    "model.dispose()"
   ]
  },
  {
   "cell_type": "code",
   "execution_count": null,
   "metadata": {},
   "outputs": [],
   "source": []
  }
 ],
 "metadata": {
  "kernelspec": {
   "display_name": "Python 3",
   "language": "python",
   "name": "python3"
  },
  "language_info": {
   "codemirror_mode": {
    "name": "ipython",
    "version": 3
   },
   "file_extension": ".py",
   "mimetype": "text/x-python",
   "name": "python",
   "nbconvert_exporter": "python",
   "pygments_lexer": "ipython3",
   "version": "3.10.12"
  }
 },
 "nbformat": 4,
 "nbformat_minor": 4
}
