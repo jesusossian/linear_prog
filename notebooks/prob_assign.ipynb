{
 "cells": [
  {
   "cell_type": "markdown",
   "metadata": {},
   "source": [
    "# Problema de atribuição de recursos"
   ]
  },
  {
   "cell_type": "markdown",
   "metadata": {},
   "source": [
    "## Descrição do problema\n",
    "\n",
    "- Considere três ofertas de trabalho: Cientista de Dados, Desenvolvedor e Arquiteto.\n",
    "\n",
    "- Considere três pessoas(recursos): Carlos, Jonas e Monica.\n",
    "\n",
    "- Considere uma medida(\\%) de competência pessoa/trabalho: percentual de competência.\n",
    "\n",
    "- Assuma que somente uma pessoa pode ser atribuida a um trabalho e no máximo um trabalho pode ser atribuido a uma pessoa.\n",
    "\n",
    "- Determine uma atribuição que assegure que cada trabalho é executado e cada pessoa é atribuido a no máximo um trabalho onde o valor percentual é maximizado.\n"
   ]
  },
  {
   "cell_type": "markdown",
   "metadata": {},
   "source": [
    "## Dados\n",
    "\n",
    "- A medida de competência/habilidade para a execução de cada trabalho por cada pessoa é ilustrado na tabela a seguir através de um valor percentual.\n",
    "\n",
    "|            | cientista | desenvolvedor | arquiteto |\n",
    "|------------|-----------|---------------|-----------|\n",
    "| Carlos     | 53\\%      | 27 \\%         | 13 \\%     |\n",
    "| Jonas      | 80 \\%     | 47 \\%         | 67 \\%     |\n",
    "| Monica     | 53 \\%     | 73 \\%         | 47 \\%     |\n"
   ]
  },
  {
   "cell_type": "markdown",
   "metadata": {},
   "source": [
    "## Modelagem\n",
    "\n",
    "- Variáveis de decisão: \n",
    "\n",
    "    $\n",
    "    x_{i,j} =\n",
    "    \\begin{cases} \n",
    "    1, & \\text{se a pessoa {\\it i} é atribuida ao trabalho {\\it j}} \\\\\n",
    "    0, & \\text{caso contrário}\n",
    "    \\end{cases}\n",
    "    $ \n",
    "\n",
    "    para $i=1,2,3$ e $j=1,2,3$.\n",
    "\n",
    "\n",
    "- Restrições:\n",
    "\n",
    "    - Restrição de trabalho: Para cada trabalho $j=1,2,3$, exatamente uma pessoa $i$ deve ser atribuida sobre $i=1,2,3$.\n",
    "        - Cientista de Dados, j=1:  $x_{1,1} + x_{2,1} + x_{3,1} = 1$\n",
    "        - Desenvolvedor, j=2: $x_{1,2} + x_{2,2} + x_{3,2} = 1$\n",
    "        - Arquiteto, j=3: $x_{1,3} + x_{2,3} + x_{3,3} = 1$\n",
    "\n",
    "    - Restrição de recursos: Para cada recurso $i=1,2,3$, no máximo um trabalho $j$ pode ser atribuido sobre $j=1,2,3$.\n",
    "        - Carlos, i=1: $x_{1,1} + x_{1,2} + x_{1,3}  \\leq 1$\n",
    "        - Jonas, i=2: $x_{2,1} + x_{2,2} + x_{2,3}  \\leq 1$\n",
    "        - Monica, i=3: $x_{3,1} + x_{3,2} + x_{3,3}  \\leq 1$\n",
    "\n",
    "- Função objetivo: maximize o percentual total máximo associado a atribuições enquanto as restrições de trabalhos e recursos são satisfeitas.\n",
    "$\n",
    "\\begin{align}\n",
    "\\max \\ &  (53 x_{1,1} + 80x_{2,1} + 53x_{3,1}) + (27x_{1,2} + 47x_{2,2} + 73x_{3,2}) + (13x_{1,3} + 67x_{2,3} + 47x_{3,3})\n",
    "\\end{align}\n",
    "$\n"
   ]
  },
  {
   "cell_type": "markdown",
   "metadata": {},
   "source": [
    "## Formulação do problema\n",
    "\n",
    "$\n",
    "\\begin{align} \\notag\n",
    "\\max \\ &  (53 x_{1,1} + 80x_{2,1} + 53x_{3,1}) + (27x_{1,2} + 47x_{2,2} + 73x_{3,2}) + (13x_{1,3} + 67x_{2,3} + 47x_{3,3}) \\\\ \\notag\n",
    "& x_{1,1} + x_{2,1} + x_{3,1} = 1 \\\\ \\notag\n",
    "& x_{1,2} + x_{2,2} + x_{3,2} = 1  \\\\ \\notag\n",
    "& x_{1,3} + x_{2,3} + x_{3,3} = 1 \\\\ \\notag\n",
    "& x_{1,1} + x_{1,2} + x_{1,3}  \\leq 1 \\\\ \\notag\n",
    "& x_{2,1} + x_{2,2} + x_{2,3}  \\leq 1 \\\\ \\notag\n",
    "& x_{3,1} + x_{3,2} + x_{3,3}  \\leq 1 \\\\ \\notag\n",
    "& x_{i,j} \\in \\{ 0, 1 \\} \\; \\forall \\; i=1,2,3, \\; j=1,2,3.\\notag\n",
    "\\end{align}\n",
    "$"
   ]
  },
  {
   "cell_type": "markdown",
   "metadata": {},
   "source": [
    "## Formulação do problema compacta\n",
    "$\n",
    "\\begin{align} \\notag\n",
    "\\max \\ & \\sum_{j \\in J} \\sum_{i \\in I} perc_{i,j}x_{i,j} \\\\ \\notag\n",
    "& \\sum_{i \\in I} x_{i,j} = 1 \\; \\; \\; \\forall \\; j \\in J \\\\ \\notag\n",
    "& \\sum_{j \\in J} x_{i,j} \\leq 1 \\; \\; \\; \\forall \\; i \\in I \\\\ \\notag\n",
    "& x_{i,j} \\in \\{ 0, 1 \\} \\; \\; \\; \\forall \\; i \\in I, \\; \\; \\forall \\; j \\in J. \\notag\n",
    "\\end{align}\n",
    "$\n"
   ]
  },
  {
   "cell_type": "code",
   "execution_count": 26,
   "metadata": {},
   "outputs": [],
   "source": [
    "# importando as bibliotecas\n",
    "import gurobipy as gp\n",
    "from gurobipy import GRB"
   ]
  },
  {
   "cell_type": "code",
   "execution_count": 27,
   "metadata": {},
   "outputs": [],
   "source": [
    "# conjuntos: recursos e trabalhos\n",
    "I = ['Carlos', 'Jonas', 'Monica']\n",
    "J = ['Cientista', 'Desenvolvedor', 'Arquiteto']"
   ]
  },
  {
   "cell_type": "code",
   "execution_count": 28,
   "metadata": {},
   "outputs": [],
   "source": [
    "# matriz percentual\n",
    "key, perc = gp.multidict({\n",
    "    ('Carlos', 'Cientista'): 53,\n",
    "    ('Carlos', 'Desenvolvedor'): 27,\n",
    "    ('Carlos', 'Arquiteto'): 13,\n",
    "    ('Jonas', 'Cientista'): 80,\n",
    "    ('Jonas', 'Desenvolvedor'): 47,\n",
    "    ('Jonas', 'Arquiteto'): 67,\n",
    "    ('Monica', 'Cientista'): 53,\n",
    "    ('Monica', 'Desenvolvedor'): 73,\n",
    "    ('Monica', 'Arquiteto'): 47\n",
    "})"
   ]
  },
  {
   "cell_type": "code",
   "execution_count": 29,
   "metadata": {},
   "outputs": [],
   "source": [
    "# definindo o modelo\n",
    "model = gp.Model(\"atribuicao\")"
   ]
  },
  {
   "cell_type": "code",
   "execution_count": 30,
   "metadata": {},
   "outputs": [],
   "source": [
    "# adicionando variaveis\n",
    "x = model.addVars(key, name='x')"
   ]
  },
  {
   "cell_type": "code",
   "execution_count": 31,
   "metadata": {},
   "outputs": [
    {
     "data": {
      "text/plain": [
       "gurobipy.tuplelist"
      ]
     },
     "execution_count": 31,
     "metadata": {},
     "output_type": "execute_result"
    }
   ],
   "source": [
    "type(key)"
   ]
  },
  {
   "cell_type": "code",
   "execution_count": 32,
   "metadata": {},
   "outputs": [
    {
     "data": {
      "text/plain": [
       "gurobipy.tupledict"
      ]
     },
     "execution_count": 32,
     "metadata": {},
     "output_type": "execute_result"
    }
   ],
   "source": [
    "type(perc)"
   ]
  },
  {
   "cell_type": "code",
   "execution_count": 33,
   "metadata": {},
   "outputs": [
    {
     "data": {
      "text/plain": [
       "gurobipy.tupledict"
      ]
     },
     "execution_count": 33,
     "metadata": {},
     "output_type": "execute_result"
    }
   ],
   "source": [
    "type(x)"
   ]
  },
  {
   "cell_type": "code",
   "execution_count": 34,
   "metadata": {},
   "outputs": [],
   "source": [
    "# adicionando restricoes de trabalho\n",
    "trabalho = model.addConstrs((x.sum('*',j) == 1 for j in J), 'trabalho')"
   ]
  },
  {
   "cell_type": "code",
   "execution_count": 35,
   "metadata": {},
   "outputs": [],
   "source": [
    "# adicionando restricoes de recursos(pessoas)\n",
    "pessoa = model.addConstrs((x.sum(i,'*') <= 1 for i in I), 'pessoa')"
   ]
  },
  {
   "cell_type": "code",
   "execution_count": 36,
   "metadata": {},
   "outputs": [],
   "source": [
    "# definindo a funcao objetivo\n",
    "model.setObjective(x.prod(perc),GRB.MAXIMIZE)"
   ]
  },
  {
   "cell_type": "code",
   "execution_count": 37,
   "metadata": {},
   "outputs": [],
   "source": [
    "model.write('atribuicao.lp')"
   ]
  },
  {
   "cell_type": "code",
   "execution_count": 38,
   "metadata": {},
   "outputs": [
    {
     "name": "stdout",
     "output_type": "stream",
     "text": [
      "Gurobi Optimizer version 10.0.0 build v10.0.0rc2 (linux64)\n",
      "\n",
      "CPU model: Intel(R) Core(TM) i5-1035G1 CPU @ 1.00GHz, instruction set [SSE2|AVX|AVX2|AVX512]\n",
      "Thread count: 4 physical cores, 8 logical processors, using up to 8 threads\n",
      "\n",
      "Optimize a model with 6 rows, 9 columns and 18 nonzeros\n",
      "Model fingerprint: 0xb343b6eb\n",
      "Coefficient statistics:\n",
      "  Matrix range     [1e+00, 1e+00]\n",
      "  Objective range  [1e+01, 8e+01]\n",
      "  Bounds range     [0e+00, 0e+00]\n",
      "  RHS range        [1e+00, 1e+00]\n",
      "Presolve time: 0.00s\n",
      "Presolved: 6 rows, 9 columns, 18 nonzeros\n",
      "\n",
      "Iteration    Objective       Primal Inf.    Dual Inf.      Time\n",
      "       0    4.6000000e+32   1.800000e+31   4.600000e+02      0s\n",
      "       5    1.9300000e+02   0.000000e+00   0.000000e+00      0s\n",
      "\n",
      "Solved in 5 iterations and 0.01 seconds (0.00 work units)\n",
      "Optimal objective  1.930000000e+02\n"
     ]
    }
   ],
   "source": [
    "model.optimize()"
   ]
  },
  {
   "cell_type": "code",
   "execution_count": 39,
   "metadata": {},
   "outputs": [
    {
     "name": "stdout",
     "output_type": "stream",
     "text": [
      "x[Carlos,Cientista] =  1.0\n",
      "x[Jonas,Arquiteto] =  1.0\n",
      "x[Monica,Desenvolvedor] =  1.0\n"
     ]
    }
   ],
   "source": [
    "#imprimindo solucao\n",
    "for var in model.getVars():\n",
    "    if abs(var.x) > 1e-6:\n",
    "        print(f\"{var.varName} =  {var.x}\")"
   ]
  },
  {
   "cell_type": "code",
   "execution_count": 40,
   "metadata": {},
   "outputs": [
    {
     "name": "stdout",
     "output_type": "stream",
     "text": [
      "Percentual total = 193.0\n"
     ]
    }
   ],
   "source": [
    "# imprimindo valor objetivo\n",
    "print(f\"Percentual total = {model.objVal}\")"
   ]
  },
  {
   "cell_type": "markdown",
   "metadata": {},
   "source": [
    "## Um novo cenário\n",
    "\n",
    "- Considere um novo cenário onde uma nova pessoa, Ana, com percentual de competência igual a 100\\% para todos os trabalhos é inserida no modelo.\n",
    "\n",
    "- Restrições\n",
    "\n",
    "    - Restrição de trabalho: Para cada trabalho $j=1,2,3$, exatamente uma pessoa $i$ deve ser atribuida sobre $i=1,2,3,4$.\n",
    "        - Cientista, i=1: $$x_{1,1} + x_{2,1} + x_{3,1} + x_{4,1} = 1$$\n",
    "        - Desenvolvedor, i=2: $$x_{1,2} + x_{2,2} + x_{3,2} + x_{4,2} = 1$$\n",
    "        - Arquiteto, i=3: $$x_{1,3} + x_{2,3} + x_{3,3} + x_{4,3}= 1$$\n",
    "\n",
    "    - Restrição de recursos: Para o recurso sobre $i=4$ no máximo um trabalho $j$  deve ser atribuido sobre $j=1,2,3$.\n",
    "        - Ana, j=4: $$x_{4,1} + x_{4,2} + x_{4,3}  \\leq 1$$\n",
    "\n",
    "\n",
    "- Função objetivo: maximizar o percentual total associado as atribuições enquanto as restrições de trabalho e recursos são satisfeitas.\n",
    "$\n",
    "\\begin{align} \\notag\n",
    "\\max \\ &  (53x_{1,1} + 80x_{2,1} + 53x_{3,1} + 100x_{4,1}) + \\\\ \\notag\n",
    "& (27x_{1,2} + 47x_{2,2} + 73x_{3,2} + 100x_{4,2}) + \\\\ \\notag\n",
    "& (13x_{1,3} + 67x_{2,3} + 47x_{3,3} + 100x_{4,3})\n",
    "\\end{align}\n",
    "$\n",
    "\n",
    "- Formulação do problema.\n",
    "\n",
    "$\n",
    "\\begin{align} \\notag\n",
    "\\max \\ &  (53x_{1,1} + 80x_{2,1} + 53x_{3,1} + 100x_{4,1}) + \\\\ \\notag\n",
    "& (27x_{1,2} + 47x_{2,2} + 73x_{3,2} + 100x_{4,2}) + \\\\ \\notag\n",
    "& (13x_{1,3} + 67x_{2,3} + 47x_{3,3} + 100x_{4,3}) \\\\ \\notag\n",
    "& x_{1,1} + x_{2,1} + x_{3,1} + x_{4,1} = 1 \\\\ \\notag\n",
    "& x_{1,2} + x_{2,2} + x_{3,2} + x_{4,2} = 1  \\\\ \\notag\n",
    "& x_{1,3} + x_{2,3} + x_{3,3} + x_{4,3} = 1 \\\\ \\notag\n",
    "& x_{1,1} + x_{1,2} + x_{1,3}  \\leq 1 \\\\ \\notag\n",
    "& x_{2,1} + x_{2,2} + x_{2,3}  \\leq 1 \\\\ \\notag\n",
    "& x_{3,1} + x_{3,2} + x_{3,3}  \\leq 1 \\\\ \\notag\n",
    "& x_{4,1} + x_{4,2} + x_{4,3}  \\leq 1 \\\\ \\notag\n",
    "& x_{i,j} \\in \\{ 0, 1 \\} \\; \\forall \\; i=1,2,3,4, \\; j=1,2,3. \n",
    "\\end{align}\n",
    "$"
   ]
  },
  {
   "cell_type": "code",
   "execution_count": 41,
   "metadata": {},
   "outputs": [],
   "source": [
    "# alterando o cenario. Ana passa a fazer parte da selecao\n",
    "nperc = {('Ana','Cientista'):100, ('Ana','Desenvolvedor'):100, ('Ana','Arquiteto'):100}"
   ]
  },
  {
   "cell_type": "code",
   "execution_count": 42,
   "metadata": {},
   "outputs": [],
   "source": [
    "for key, val in nperc.items():\n",
    "    i, j = key\n",
    "    x[key] = model.addVar(obj=val,\n",
    "                    name='x[{0},{1}]'.format(i,j),\n",
    "                    column=gp.Column([1],[model.getConstrByName('trabalho[{0}]'.format(j))])\n",
    "                   )"
   ]
  },
  {
   "cell_type": "code",
   "execution_count": 43,
   "metadata": {},
   "outputs": [
    {
     "data": {
      "text/plain": [
       "<gurobi.Constr *Awaiting Model Update*>"
      ]
     },
     "execution_count": 43,
     "metadata": {},
     "output_type": "execute_result"
    }
   ],
   "source": [
    "model.addConstr(x.sum('Ana','*') <= 1, name='pessoa[Ana]')"
   ]
  },
  {
   "cell_type": "code",
   "execution_count": 44,
   "metadata": {},
   "outputs": [
    {
     "name": "stdout",
     "output_type": "stream",
     "text": [
      "Gurobi Optimizer version 10.0.0 build v10.0.0rc2 (linux64)\n",
      "\n",
      "CPU model: Intel(R) Core(TM) i5-1035G1 CPU @ 1.00GHz, instruction set [SSE2|AVX|AVX2|AVX512]\n",
      "Thread count: 4 physical cores, 8 logical processors, using up to 8 threads\n",
      "\n",
      "Optimize a model with 7 rows, 12 columns and 24 nonzeros\n",
      "Coefficient statistics:\n",
      "  Matrix range     [1e+00, 1e+00]\n",
      "  Objective range  [1e+01, 1e+02]\n",
      "  Bounds range     [0e+00, 0e+00]\n",
      "  RHS range        [1e+00, 1e+00]\n",
      "Iteration    Objective       Primal Inf.    Dual Inf.      Time\n",
      "       0    1.4100000e+32   9.000000e+30   1.410000e+02      0s\n",
      "       2    2.5300000e+02   0.000000e+00   0.000000e+00      0s\n",
      "\n",
      "Solved in 2 iterations and 0.01 seconds (0.00 work units)\n",
      "Optimal objective  2.530000000e+02\n"
     ]
    }
   ],
   "source": [
    "# resolver novamente\n",
    "model.optimize()"
   ]
  },
  {
   "cell_type": "code",
   "execution_count": 47,
   "metadata": {},
   "outputs": [
    {
     "name": "stdout",
     "output_type": "stream",
     "text": [
      "x[Jonas,Cientista] = 1.0\n",
      "x[Monica,Desenvolvedor] = 1.0\n",
      "x[Ana,Arquiteto] = 1.0\n"
     ]
    }
   ],
   "source": [
    "# imprimindo solucao\n",
    "for var in model.getVars():\n",
    "    if abs(var.x) > 1e-6:\n",
    "        print(f\"{var.varName} = {var.x}\")"
   ]
  },
  {
   "cell_type": "code",
   "execution_count": 46,
   "metadata": {},
   "outputs": [
    {
     "name": "stdout",
     "output_type": "stream",
     "text": [
      "Novo percentual = 253.0\n"
     ]
    }
   ],
   "source": [
    "# imprimindo o valor otimo\n",
    "print(f\"Novo percentual = {model.objVal}\")"
   ]
  },
  {
   "cell_type": "code",
   "execution_count": 23,
   "metadata": {},
   "outputs": [],
   "source": [
    "# clear model\n",
    "model.dispose()"
   ]
  }
 ],
 "metadata": {
  "kernelspec": {
   "display_name": "Python 3",
   "language": "python",
   "name": "python3"
  },
  "language_info": {
   "codemirror_mode": {
    "name": "ipython",
    "version": 3
   },
   "file_extension": ".py",
   "mimetype": "text/x-python",
   "name": "python",
   "nbconvert_exporter": "python",
   "pygments_lexer": "ipython3",
   "version": "3.10.12"
  }
 },
 "nbformat": 4,
 "nbformat_minor": 4
}
