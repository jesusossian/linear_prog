{
 "cells": [
  {
   "cell_type": "markdown",
   "metadata": {},
   "source": [
    "## Problema da dieta\n",
    "\n",
    "- Suponha que uma certa dieta alimentar esteja restrita a leite, carne, peixe e salada. \n",
    "\n",
    "- Deseja-se determinar uma dieta diária para uma redução calórica, de modo que os requisitos nutricionais(vitaminas A, C e D) sejam satisfeitos a um custo mínimo.\n",
    "\n",
    "- A tabela a seguir traz os dados do problema.\n",
    "\n",
    "| **vitamina** | **leite** | **carne** | **peixe** | **salada** | **requisitos** |\n",
    "|--------------|-----------|-----------|-----------|------------|----------------|\n",
    "| **A**        | 2mg       | 2mg       | 10mg      | 20mg       | 11mg           |\n",
    "| **C**        | 50mg      | 20mg      | 10mg      | 30mg       | 70mg           |\n",
    "| **D**        | 80mg      | 70mg      | 10mg      | 80mg       | 250mg          |\n",
    "| **custo**    | R$ 2      | R$ 4      | R$ 1.5    | R$ 1       |                |\n",
    "\n",
    "- Definição das variáveis de decisão:\n",
    "\n",
    "    1. $x_j$, quantidade do alimento $j$ a ser utilizado na dieta, onde 1 corresponde a leite, 2 a carne, 3 ao peixe e 4 a salada respectivamente.\n",
    "\n",
    "- Definição da função objetivo: $\\min \\ 2 x_1 + 4 x_2 + 1,5 x_3 + x_4$ \n",
    "\n",
    "- Definição das restrições:\n",
    "\n",
    "\n",
    "    1. demanda da vitamina A: $2 x_1 + 2 x_2 + 10 x_3 + 20 x_4 \\geq 11$\n",
    "\n",
    "    2. demanda da vitamina C: $50 x_1 + 20 x_2 + 10 x_3 + 30 x_4 \\geq 70$\n",
    "\n",
    "    3. demanda da vitamina D: $80 x_1 + 70 x_2 + 10 x_3 + 80 x_4 \\geq 250$\n",
    "\n",
    "    4. não negatividade: $x_j \\geq 0, \\ j=1, \\ldots, 4$\n",
    "\n",
    "- Formulação do problema\n",
    "\n",
    "$\n",
    "\\begin{align} \\notag\n",
    "\\min \\ & 2 x_1 + 4 x_2 + 1,5 x_3 + x_4 \\\\ \\notag\n",
    "& 2 x_1 + 2 x_2 + 10 x_3 + 20 x_4 \\geq 11 \\\\ \\notag\n",
    "& 50 x_1 + 20 x_2 + 10 x_3 + 30 x_4 \\geq 70 \\\\ \\notag\n",
    "& 80 x_1 + 70 x_2 + 10 x_3 + 80 x_4 \\geq 250 \\\\ \\notag\n",
    "& x_j \\geq 0, \\ j=1, \\ldots, 4 \n",
    "\\end{align}\n",
    "$"
   ]
  },
  {
   "cell_type": "code",
   "execution_count": null,
   "metadata": {},
   "outputs": [],
   "source": [
    "import gurobipy as gp\n",
    "from gurobipy import GRB"
   ]
  },
  {
   "cell_type": "code",
   "execution_count": null,
   "metadata": {},
   "outputs": [],
   "source": [
    "# cria model\n",
    "model = gp.Model(\"dieta\")"
   ]
  },
  {
   "cell_type": "code",
   "execution_count": null,
   "metadata": {},
   "outputs": [],
   "source": [
    "model"
   ]
  },
  {
   "cell_type": "code",
   "execution_count": null,
   "metadata": {},
   "outputs": [],
   "source": [
    "# define variaveis\n",
    "x1 = model.addVar(name=\"x1\")\n",
    "x2 = model.addVar(name=\"x2\")\n",
    "x3 = model.addVar(name=\"x3\")\n",
    "x4 = model.addVar(name=\"x4\")\n",
    "model.update()"
   ]
  },
  {
   "cell_type": "code",
   "execution_count": null,
   "metadata": {},
   "outputs": [],
   "source": [
    "model"
   ]
  },
  {
   "cell_type": "code",
   "execution_count": null,
   "metadata": {},
   "outputs": [],
   "source": [
    "# define funcao objetivo\n",
    "model.setObjective(2*x1 + 4*x2 + 1.5*x3 + x4, GRB.MINIMIZE)\n",
    "model.update()"
   ]
  },
  {
   "cell_type": "code",
   "execution_count": null,
   "metadata": {},
   "outputs": [],
   "source": [
    "model"
   ]
  },
  {
   "cell_type": "code",
   "execution_count": null,
   "metadata": {},
   "outputs": [],
   "source": [
    "# define restricoes\n",
    "con1 = model.addConstr(2*x1 + 2*x2 + 10*x3 + 20*x4 >= 11, \"con1\")\n",
    "con2 = model.addConstr(50*x1 + 20*x2 + 10*x3 + 30*x4 >= 70, \"con2\")\n",
    "con3 = model.addConstr(80*x1 + 70*x2 + 10*x3 + 80*x4 >= 250, \"con3\")\n",
    "model.update()"
   ]
  },
  {
   "cell_type": "code",
   "execution_count": null,
   "metadata": {},
   "outputs": [],
   "source": [
    "model"
   ]
  },
  {
   "cell_type": "code",
   "execution_count": null,
   "metadata": {},
   "outputs": [],
   "source": [
    "# salva o modelo para verificacao\n",
    "model.write('dieta.mps')"
   ]
  },
  {
   "cell_type": "code",
   "execution_count": null,
   "metadata": {},
   "outputs": [],
   "source": [
    "# otimiza o modelo\n",
    "model.optimize()"
   ]
  },
  {
   "cell_type": "code",
   "execution_count": null,
   "metadata": {},
   "outputs": [],
   "source": [
    "# imprime solucao ótima\n",
    "for v in model.getVars():\n",
    "    print(f\"{v.VarName} = {v.X}\")"
   ]
  },
  {
   "cell_type": "code",
   "execution_count": null,
   "metadata": {},
   "outputs": [],
   "source": [
    "# imprime valor ótimo\n",
    "print(f\"obj = {model.ObjVal}\")"
   ]
  },
  {
   "cell_type": "code",
   "execution_count": null,
   "metadata": {},
   "outputs": [],
   "source": [
    "# imprime tempo de execucao\n",
    "print(f'Runtime: {model.Runtime}')"
   ]
  },
  {
   "cell_type": "code",
   "execution_count": null,
   "metadata": {},
   "outputs": [],
   "source": [
    "# limpa todos os recursos associados ao objeto model\n",
    "model.dispose()"
   ]
  },
  {
   "cell_type": "code",
   "execution_count": null,
   "metadata": {},
   "outputs": [],
   "source": []
  }
 ],
 "metadata": {
  "kernelspec": {
   "display_name": "Python 3",
   "language": "python",
   "name": "python3"
  },
  "language_info": {
   "codemirror_mode": {
    "name": "ipython",
    "version": 3
   },
   "file_extension": ".py",
   "mimetype": "text/x-python",
   "name": "python",
   "nbconvert_exporter": "python",
   "pygments_lexer": "ipython3",
   "version": "3.10.12"
  }
 },
 "nbformat": 4,
 "nbformat_minor": 2
}
