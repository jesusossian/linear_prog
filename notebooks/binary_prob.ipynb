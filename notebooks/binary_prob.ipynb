{
 "cells": [
  {
   "cell_type": "markdown",
   "metadata": {},
   "source": [
    "# Binary problem\n",
    "\n",
    "- Considere o seguinte o seguinte problema:\n",
    "\n",
    "    - Você precisa decidir sobre três tarefas(se executa ou não) e deseja obter um valor máximo associado a execução dessas tarefas.\n",
    "\n",
    "    - Você necessita escolher se executa a tarefa 1 ou executa a tarefa 2 ou executa ambas.\n",
    "\n",
    "    - O tempo total limite para executar essas três tarefa é igual a 4 horas, sendo que:\n",
    "        - a tarefa 1 dura 1 hora.\n",
    "        - a tarefa 2 dura 2 horas.\n",
    "        - a tarefa 3 dura 3 horas.\n",
    "\n",
    "    -  A tarefa 3 vale o dobro das atividades 1 e 2.\n",
    "\n",
    "\n",
    "- Este problema pode ser modelado como um problema inteiro binário.\n",
    "    - Variáveis binárias $x, y$ e $z$ para as tarefas 1,2 e 3, respectivamente.\n",
    "    - Restrição linear para o tempo limite para execução das tarefas.\n",
    "    - Restrição linear para o condição de execução das tarefas 1 ou 2.\n",
    "    - Restrição linear para a função objetivo.\n",
    "\n",
    "\n",
    "- Formulação do problema:\n",
    "$\n",
    "\\begin{align} \\notag\n",
    "\\max \\ & x + y + 2z \\\\ \\notag\n",
    "& x + 2y + 3z \\leq 4 \\\\ \\notag\n",
    "& x + y \\geq 1 \\\\ \\notag\n",
    "& x, y, z \\in \\{ 0, 1 \\} \\notag\n",
    "\\end{align}\n",
    "$\n"
   ]
  },
  {
   "cell_type": "code",
   "execution_count": null,
   "metadata": {},
   "outputs": [],
   "source": [
    "# importa as bibliotecas\n",
    "import gurobipy as gp\n",
    "from gurobipy import GRB"
   ]
  },
  {
   "cell_type": "code",
   "execution_count": null,
   "metadata": {},
   "outputs": [],
   "source": [
    "# criando o modelo\n",
    "model = gp.Model()"
   ]
  },
  {
   "cell_type": "code",
   "execution_count": null,
   "metadata": {},
   "outputs": [],
   "source": [
    "# adicionando as variaveis\n",
    "x = model.addVar(vtype = GRB.BINARY, name = \"x\")\n",
    "y = model.addVar(vtype = GRB.BINARY, name = \"y\")\n",
    "z = model.addVar(vtype = GRB.BINARY, name = \"z\")"
   ]
  },
  {
   "cell_type": "code",
   "execution_count": null,
   "metadata": {},
   "outputs": [],
   "source": [
    "# definindo a funcao objetivo\n",
    "model.setObjective(x + y + 2*z, GRB.MAXIMIZE)"
   ]
  },
  {
   "cell_type": "code",
   "execution_count": null,
   "metadata": {},
   "outputs": [],
   "source": [
    "# adicionando as restrições\n",
    "rest1 = model.addConstr(x + 2*y + 3*z <= 4)\n",
    "rest2 = model.addConstr(x + y >= 1)"
   ]
  },
  {
   "cell_type": "code",
   "execution_count": null,
   "metadata": {},
   "outputs": [],
   "source": [
    "# exportando .lp ou .mps\n",
    "model.write(\"binary_problem.mps\")"
   ]
  },
  {
   "cell_type": "code",
   "execution_count": null,
   "metadata": {},
   "outputs": [],
   "source": [
    "# resolvendo o problema\n",
    "model.optimize()"
   ]
  },
  {
   "cell_type": "code",
   "execution_count": null,
   "metadata": {},
   "outputs": [],
   "source": [
    "# mostra o plano de produção encontrado\n",
    "for i in model.getVars():\n",
    "    print(i.varName, i.x)"
   ]
  },
  {
   "cell_type": "code",
   "execution_count": null,
   "metadata": {},
   "outputs": [],
   "source": [
    "print(\"Valor maximo = \", model.objVal)"
   ]
  },
  {
   "cell_type": "code",
   "execution_count": null,
   "metadata": {},
   "outputs": [],
   "source": []
  },
  {
   "cell_type": "code",
   "execution_count": null,
   "metadata": {},
   "outputs": [],
   "source": []
  }
 ],
 "metadata": {
  "kernelspec": {
   "display_name": "Python 3",
   "language": "python",
   "name": "python3"
  },
  "language_info": {
   "codemirror_mode": {
    "name": "ipython",
    "version": 3
   },
   "file_extension": ".py",
   "mimetype": "text/x-python",
   "name": "python",
   "nbconvert_exporter": "python",
   "pygments_lexer": "ipython3",
   "version": "3.10.12"
  }
 },
 "nbformat": 4,
 "nbformat_minor": 2
}
