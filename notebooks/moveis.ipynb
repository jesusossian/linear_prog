{
 "cells": [
  {
   "cell_type": "markdown",
   "metadata": {},
   "source": [
    "# Problema da fabricação de moveis"
   ]
  },
  {
   "cell_type": "markdown",
   "metadata": {},
   "source": [
    "- Um cientista de dados está trabalhando em um projeto para decidir um plano de produção para a fabricação de dois produtos, mesas e cadeiras, durante uma semana. \n",
    "Foi previsto que o preço de venda de uma cadeira será R\\$ 45.00 e o preço de venda de uma mesa será R\\$ 80.00.\n",
    "\n",
    "-  Existem duas restrições, mão-de-obra e mogno, associadas a produção de cadeiras e mesas que devem ser respeitadas:\n",
    "    - Existem 400 unidades de mogno disponíveis no inicio da semana.\n",
    "    - Existem 450 unidades de mão-de-obra disponível durante cada semana.\n",
    "\n",
    "- O cientista de dados estima que:\n",
    "    - Uma cadeira requer 5 unidades de mogno e 10 unidades de mão-de-obra.\n",
    "    - Uma mesa requer 20 unidades de mogno e 15 unidades de mão-de-obra.\n",
    "\n",
    "- Qual é o plano de produção que maximize a receita com venda de cadeiras e mesas?"
   ]
  },
  {
   "cell_type": "markdown",
   "metadata": {},
   "source": [
    "- Para determina um plano de produção necessitamos decidi quantas cadeiras serão fabricadas e quantas mesas serão produzidas de forma que a receita total seja maximizada, enquanto as restrições são satisfeitas.\n",
    "\n",
    "- O problema possui duas variáveis:\n",
    "    - $x_1$: número de cadeiras a se produzir.\n",
    "    - $x_2$: número de mesas a se produzir.\n",
    "\n",
    "- A seguir tabela com os dados do problema:\n",
    "\n",
    "| materia-prima  | cadeira  | mesa     | capacidade |\n",
    "|----------------|----------|----------|------------|\n",
    "| mogno          | 5 un     | 20 un    | 400 un     |\n",
    "| mão-de-obra    | 10 un    | 15 un    | 450 un     |\n",
    "| preço de venda | R\\$ 45.00 | R\\$ 80.00 |            |\n",
    "\n",
    "- Suponha que é possível produzir e vender parte fracional das quantidades de cadeiras e mesas."
   ]
  },
  {
   "cell_type": "markdown",
   "metadata": {},
   "source": [
    "- A função objetivo do problema é definida como:\n",
    "$$\n",
    "\\max 45 x_1 + 80 x_2 \n",
    "$$\n",
    "\n",
    "- A quantidade de mogno consumido na produção de cadeiras e mesas não poderá exceder a quantidade de mogno disponível.\n",
    "$$\n",
    "5 x_1 + 20 x_2 \\leq 400\n",
    "$$\n",
    "\n",
    "- A quantidade de mão-de-obra consumida na produção de cadeiras e mesas não poderá exceder a capacidade de mão-de-obra.\n",
    "$$\n",
    "10 x_1 + 15 x_2 \\leq 450\n",
    "$$\n",
    "\n",
    "\n",
    "- A formulação do problema como um problema de programação linear.\n",
    "$\n",
    "\\begin{align} \\notag\n",
    "\\max \\ & 45 x_1 + 80 x_2 \\\\ \\notag\n",
    "& 5 x_1 + 20 x_2 \\leq 400 \\\\ \\notag\n",
    "& 10 x_1 + 15 x_2 \\leq 450 \\\\ \\notag\n",
    "& x_1, x_2 \\geq 0\n",
    "\\end{align}\n",
    "$\n"
   ]
  },
  {
   "cell_type": "markdown",
   "metadata": {},
   "source": [
    "- Resolvendo o problema com Gurobi\n",
    "    - importar bibliotecas\n",
    "    - criar modelo\n",
    "        - definir variáveis\n",
    "        - definir restrições\n",
    "        - definir função objetivo\n",
    "    - resolver o problema\n",
    "    - imprimir soluções"
   ]
  },
  {
   "cell_type": "code",
   "execution_count": 2,
   "metadata": {},
   "outputs": [],
   "source": [
    "# importa as bibliotecas\n",
    "import gurobipy as gp\n",
    "from gurobipy import GRB"
   ]
  },
  {
   "cell_type": "code",
   "execution_count": 3,
   "metadata": {},
   "outputs": [
    {
     "name": "stdout",
     "output_type": "stream",
     "text": [
      "Set parameter Username\n",
      "Academic license - for non-commercial use only - expires 2025-02-20\n",
      "Warning: Gurobi version mismatch between Python 10.0.3 and C library 10.0.0\n"
     ]
    }
   ],
   "source": [
    "# criando o modelo\n",
    "model = gp.Model()"
   ]
  },
  {
   "cell_type": "code",
   "execution_count": 4,
   "metadata": {},
   "outputs": [],
   "source": [
    "# criando as variaveis\n",
    "#x1 refere-se a cadeiras\n",
    "#x2 refere-se a mesas\n",
    "\n",
    "x1 = model.addVar(vtype=GRB.INTEGER,name=\"x1\")\n",
    "x2 = model.addVar(vtype=GRB.INTEGER,name=\"x2\")"
   ]
  },
  {
   "cell_type": "code",
   "execution_count": 5,
   "metadata": {},
   "outputs": [],
   "source": [
    "# definindo função objetivo\n",
    "model.setObjective(45*x1 + 80*x2,GRB.MAXIMIZE)"
   ]
  },
  {
   "cell_type": "code",
   "execution_count": 6,
   "metadata": {},
   "outputs": [],
   "source": [
    "# adicionando as restrições\n",
    "con1 = model.addConstr(3*x1 + 20*x2 <= 400, \"mogno\")\n",
    "con2 = model.addConstr(10*x1 + 15*x2 <= 450, \"mao-de-obra\")"
   ]
  },
  {
   "cell_type": "code",
   "execution_count": 7,
   "metadata": {},
   "outputs": [],
   "source": [
    "# salvando modelo\n",
    "model.write(\"moveis_mip.lp\")"
   ]
  },
  {
   "cell_type": "code",
   "execution_count": 8,
   "metadata": {},
   "outputs": [
    {
     "name": "stdout",
     "output_type": "stream",
     "text": [
      "Gurobi Optimizer version 10.0.0 build v10.0.0rc2 (linux64)\n",
      "\n",
      "CPU model: Intel(R) Core(TM) i5-1035G1 CPU @ 1.00GHz, instruction set [SSE2|AVX|AVX2|AVX512]\n",
      "Thread count: 4 physical cores, 8 logical processors, using up to 8 threads\n",
      "\n",
      "Optimize a model with 2 rows, 2 columns and 4 nonzeros\n",
      "Model fingerprint: 0x144121ba\n",
      "Variable types: 0 continuous, 2 integer (0 binary)\n",
      "Coefficient statistics:\n",
      "  Matrix range     [3e+00, 2e+01]\n",
      "  Objective range  [4e+01, 8e+01]\n",
      "  Bounds range     [0e+00, 0e+00]\n",
      "  RHS range        [4e+02, 4e+02]\n",
      "Found heuristic solution: objective 2025.0000000\n",
      "Presolve time: 0.00s\n",
      "Presolved: 2 rows, 2 columns, 4 nonzeros\n",
      "Variable types: 0 continuous, 2 integer (0 binary)\n",
      "\n",
      "Root relaxation: objective 2.238710e+03, 2 iterations, 0.00 seconds (0.00 work units)\n",
      "\n",
      "    Nodes    |    Current Node    |     Objective Bounds      |     Work\n",
      " Expl Unexpl |  Obj  Depth IntInf | Incumbent    BestBd   Gap | It/Node Time\n",
      "\n",
      "     0     0 2238.70968    0    2 2025.00000 2238.70968  10.6%     -    0s\n",
      "     0     0 2237.50000    0    1 2025.00000 2237.50000  10.5%     -    0s\n",
      "H    0     0                    2215.0000000 2237.50000  1.02%     -    0s\n",
      "H    0     0                    2225.0000000 2237.50000  0.56%     -    0s\n",
      "     0     0 2237.50000    0    1 2225.00000 2237.50000  0.56%     -    0s\n",
      "\n",
      "Explored 1 nodes (3 simplex iterations) in 0.02 seconds (0.00 work units)\n",
      "Thread count was 8 (of 8 available processors)\n",
      "\n",
      "Solution count 3: 2225 2215 2025 \n",
      "\n",
      "Optimal solution found (tolerance 1.00e-04)\n",
      "Best objective 2.225000000000e+03, best bound 2.225000000000e+03, gap 0.0000%\n"
     ]
    }
   ],
   "source": [
    "# resolvendo o problema\n",
    "model.optimize()"
   ]
  },
  {
   "cell_type": "code",
   "execution_count": 10,
   "metadata": {},
   "outputs": [
    {
     "name": "stdout",
     "output_type": "stream",
     "text": [
      "Solução ótima\n",
      "x1 = 21.0\n",
      "x2 = 16.0\n"
     ]
    }
   ],
   "source": [
    "# imprimindo solução ótima\n",
    "print(\"Solução ótima\")\n",
    "for v in model.getVars():\n",
    "    print(f'{v.varName} = {v.x}')"
   ]
  },
  {
   "cell_type": "code",
   "execution_count": 11,
   "metadata": {},
   "outputs": [
    {
     "name": "stdout",
     "output_type": "stream",
     "text": [
      "Receita = 2225.0\n"
     ]
    }
   ],
   "source": [
    "# imprimindo valor ótimo\n",
    "print(f\"Receita = {model.objVal}\")"
   ]
  },
  {
   "cell_type": "code",
   "execution_count": null,
   "metadata": {},
   "outputs": [],
   "source": []
  }
 ],
 "metadata": {
  "kernelspec": {
   "display_name": "Python 3",
   "language": "python",
   "name": "python3"
  },
  "language_info": {
   "codemirror_mode": {
    "name": "ipython",
    "version": 3
   },
   "file_extension": ".py",
   "mimetype": "text/x-python",
   "name": "python",
   "nbconvert_exporter": "python",
   "pygments_lexer": "ipython3",
   "version": "3.10.12"
  }
 },
 "nbformat": 4,
 "nbformat_minor": 2
}
