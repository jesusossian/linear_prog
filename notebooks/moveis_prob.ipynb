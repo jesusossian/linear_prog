{
 "cells": [
  {
   "cell_type": "markdown",
   "metadata": {},
   "source": [
    "# Problema da fabricação de moveis"
   ]
  },
  {
   "cell_type": "markdown",
   "metadata": {},
   "source": [
    "- Um cientista de dados está trabalhando em um projeto para decidir um plano de produção para a fabricação de dois produtos, mesas e cadeiras, durante uma semana. \n",
    "Foi previsto que o preço de venda de uma cadeira será \\$ 45.00 e o preço de venda de uma mesa será \\$ 80.00.\n",
    "\n",
    "-  Existem duas restrições, mão-de-obra e mogno, associadas a produção de cadeiras e mesas que devem ser respeitadas:\n",
    "    - Existem 400 unidades de mogno disponíveis no inicio da semana.\n",
    "    - Existem 450 unidades de mão-de-obra disponível durante cada semana.\n",
    "\n",
    "- O cientista de dados estima que:\n",
    "    - Uma cadeira requer 5 unidades de mogno e 10 unidades de mão-de-obra.\n",
    "    - Uma mesa requer 20 unidades de mogno e 15 unidades de mão-de-obra.\n",
    "\n",
    "- Qual é o plano de produção que maximize a receita com venda de cadeiras e mesas?"
   ]
  },
  {
   "cell_type": "markdown",
   "metadata": {},
   "source": [
    "- Para determina um plano de produção necessitamos decidi quantas cadeiras serão fabricadas e quantas mesas serão produzidas de forma que a receita total seja maximizada, enquanto as restrições são satisfeitas.\n",
    "\n",
    "- O problema possui duas variáveis:\n",
    "    - $x_1$: número de cadeiras a se produzir.\n",
    "    - $x_2$: número de mesas a se produzir.\n",
    "\n",
    "- A seguir tabela com os dados do problema:\n",
    "\n",
    "| materia-prima  | cadeira  | mesa     | capacidade |\n",
    "|----------------|----------|----------|------------|\n",
    "| mogno          | 5 un     | 20 un    | 400 un     |\n",
    "| mão-de-obra    | 10 un    | 15 un    | 450 un     |\n",
    "| preço de venda | \\$ 45.00 | \\$ 80.00 |            |\n",
    "\n",
    "- Suponha que é possível produzir e vender parte fracional das quantidades de cadeiras e mesas."
   ]
  },
  {
   "cell_type": "markdown",
   "metadata": {},
   "source": [
    "- A função objetivo do problema é definida como:\n",
    "$$\n",
    "\\max 45 x_1 + 80 x_2 \n",
    "$$\n",
    "\n",
    "- A quantidade de mogno consumido na produção de cadeiras e mesas não poderá exceder a quantidade de mogno disponível.\n",
    "$$\n",
    "5 x_1 + 20 x_2 \\leq 400\n",
    "$$\n",
    "\n",
    "- A quantidade de mão-de-obra consumida na produção de cadeiras e mesas não poderá exceder a capacidade de mão-de-obra.\n",
    "$$\n",
    "10 x_1 + 15 x_2 \\leq 450\n",
    "$$\n",
    "\n",
    "\n",
    "- A formulação do problema como um problema de programação linear.\n",
    "$\n",
    "\\begin{align} \\notag\n",
    "\\max \\ & 45 x_1 + 80 x_2 \\\\ \\notag\n",
    "& 5 x_1 + 20 x_2 \\leq 400 \\\\ \\notag\n",
    "& 10 x_1 + 15 x_2 \\leq 450 \\\\ \\notag\n",
    "& x_1, x_2 \\geq 0\n",
    "\\end{align}\n",
    "$\n"
   ]
  },
  {
   "cell_type": "markdown",
   "metadata": {},
   "source": [
    "- Resolvendo o problema com Gurobi\n",
    "    - importar bibliotecas\n",
    "    - criar modelo\n",
    "    - definir restrições\n",
    "    - definir função objetivo\n",
    "    - resolver o problema\n",
    "    - imprimir soluções"
   ]
  },
  {
   "cell_type": "code",
   "execution_count": 1,
   "metadata": {},
   "outputs": [],
   "source": [
    "# importa as bibliotecas\n",
    "import gurobipy as gp\n",
    "from gurobipy import GRB"
   ]
  },
  {
   "cell_type": "code",
   "execution_count": 2,
   "metadata": {},
   "outputs": [
    {
     "name": "stdout",
     "output_type": "stream",
     "text": [
      "Set parameter Username\n",
      "Academic license - for non-commercial use only - expires 2024-10-15\n",
      "Warning: Gurobi version mismatch between Python 10.0.3 and C library 10.0.0\n"
     ]
    }
   ],
   "source": [
    "# criando o modelo\n",
    "model = gp.Model()"
   ]
  },
  {
   "cell_type": "code",
   "execution_count": 3,
   "metadata": {},
   "outputs": [],
   "source": [
    "# criando as variaveis\n",
    "#x1 refere-se a cadeiras\n",
    "#x2 refere-se a mesas\n",
    "x1 = model.addVar(name=\"x1\")\n",
    "x2 = model.addVar(name=\"x2\")\n",
    "\n",
    "#x1 = model.addVar(vtype=GRB.INTEGER,name=\"x1\")\n",
    "#x2 = model.addVar(vtype=GRB.INTEGER,name=\"x2\")"
   ]
  },
  {
   "cell_type": "code",
   "execution_count": 4,
   "metadata": {},
   "outputs": [],
   "source": [
    "# definindo função objetivo\n",
    "model.setObjective(45*x1 + 80*x2,GRB.MAXIMIZE)"
   ]
  },
  {
   "cell_type": "code",
   "execution_count": 5,
   "metadata": {},
   "outputs": [],
   "source": [
    "# adicionando as restrições\n",
    "con1 = model.addConstr(5*x1 + 20*x2 <= 400, \"mogno\")\n",
    "con2 = model.addConstr(10*x1 + 15*x2 <= 450, \"mao-de-obra\")"
   ]
  },
  {
   "cell_type": "code",
   "execution_count": 6,
   "metadata": {},
   "outputs": [],
   "source": [
    "# salvando modelo\n",
    "model.write(\"moveis_ppl.lp\")"
   ]
  },
  {
   "cell_type": "code",
   "execution_count": 7,
   "metadata": {},
   "outputs": [
    {
     "name": "stdout",
     "output_type": "stream",
     "text": [
      "Gurobi Optimizer version 10.0.0 build v10.0.0rc2 (linux64)\n",
      "\n",
      "CPU model: Intel(R) Core(TM) i5-1035G1 CPU @ 1.00GHz, instruction set [SSE2|AVX|AVX2|AVX512]\n",
      "Thread count: 4 physical cores, 8 logical processors, using up to 8 threads\n",
      "\n",
      "Optimize a model with 2 rows, 2 columns and 4 nonzeros\n",
      "Model fingerprint: 0xd0437183\n",
      "Coefficient statistics:\n",
      "  Matrix range     [5e+00, 2e+01]\n",
      "  Objective range  [4e+01, 8e+01]\n",
      "  Bounds range     [0e+00, 0e+00]\n",
      "  RHS range        [4e+02, 4e+02]\n",
      "Presolve time: 0.00s\n",
      "Presolved: 2 rows, 2 columns, 4 nonzeros\n",
      "\n",
      "Iteration    Objective       Primal Inf.    Dual Inf.      Time\n",
      "       0    6.5000000e+31   2.968750e+30   6.500000e+01      0s\n",
      "       2    2.2000000e+03   0.000000e+00   0.000000e+00      0s\n",
      "\n",
      "Solved in 2 iterations and 0.01 seconds (0.00 work units)\n",
      "Optimal objective  2.200000000e+03\n"
     ]
    }
   ],
   "source": [
    "# resolvendo o problema\n",
    "model.optimize()"
   ]
  },
  {
   "cell_type": "code",
   "execution_count": 8,
   "metadata": {},
   "outputs": [
    {
     "name": "stdout",
     "output_type": "stream",
     "text": [
      "Solução ótima\n",
      "x1 = 24.0\n",
      "x2 = 14.0\n",
      "\n",
      "\n",
      "Valor ótimo\n",
      "Receita =  2200.0\n"
     ]
    }
   ],
   "source": [
    "# imprimindo solução ótima e valor ótimo\n",
    "\n",
    "print(\"Solução ótima\")\n",
    "for v in model.getVars():\n",
    "    print(v.varName, '=', v.x)\n",
    "\n",
    "print(\"\\n\")\n",
    "\n",
    "print(\"Valor ótimo\")\n",
    "print(\"Receita = \", model.objVal)"
   ]
  },
  {
   "cell_type": "code",
   "execution_count": null,
   "metadata": {},
   "outputs": [],
   "source": []
  }
 ],
 "metadata": {
  "kernelspec": {
   "display_name": "Python 3",
   "language": "python",
   "name": "python3"
  },
  "language_info": {
   "codemirror_mode": {
    "name": "ipython",
    "version": 3
   },
   "file_extension": ".py",
   "mimetype": "text/x-python",
   "name": "python",
   "nbconvert_exporter": "python",
   "pygments_lexer": "ipython3",
   "version": "3.10.12"
  }
 },
 "nbformat": 4,
 "nbformat_minor": 2
}
