{
 "cells": [
  {
   "cell_type": "markdown",
   "metadata": {},
   "source": [
    "# Modelagem em PL\n",
    "\n",
    "A modelagem de um PPL envolve algumas etapas:\n",
    "\n",
    "1. O estudo dos dados, a identificação do problema a ser resolvido, com as restrições, os limites e a função objetivo.\n",
    "\n",
    "2. A construção de uma abstração do problema através de um modelo matemático.\n",
    "\n",
    "3. A busca de uma solução através de uma técnica que explore alguma estrutura.\n",
    "\n",
    "4. O teste do modelo, sua análise e sua reestruturação.\n",
    "\n",
    "5. A implementação computacional do modelo.\n"
   ]
  },
  {
   "cell_type": "markdown",
   "metadata": {},
   "source": [
    "## Problema da dieta\n",
    "\n",
    "- Suponha que uma certa dieta alimentar esteja restrita a leite, carne, peixe e salada. \n",
    "\n",
    "- Deseja-se determinar uma dieta diária para uma redução calórica, de modo que os requisitos nutricionais(vitaminas A, C e D) sejam satisfeitos a um custo mínimo.\n",
    "\n",
    "- A tabela a seguir traz os dados do problema.\n",
    "\n",
    "| **vitamina** | **leite** | **carne** | **peixe** | **salada** | **requisitos** |\n",
    "|--------------|-----------|-----------|-----------|------------|----------------|\n",
    "| **A**        | 2mg       | 2mg       | 10mg      | 20mg       | 11mg           |\n",
    "| **C**        | 50mg      | 20mg      | 10mg      | 30mg       | 70mg           |\n",
    "| **D**        | 80mg      | 70mg      | 10mg      | 80mg       | 250mg          |\n",
    "| **custo**    | R$ 2      | R$ 4      | R$ 1.5    | R$ 1       |                |\n",
    "\n",
    "- Definição das variáveis de decisão:\n",
    "\n",
    "    1. $x_j$, quantidade do alimento $j$ a ser utilizado na dieta, onde 1 corresponde a leite, 2 a carne, 3 ao peixe e 4 a salada respectivamente.\n",
    "\n",
    "    2. Definição da função objetivo: $\\min \\ 2 x_1 + 4 x_2 + 1,5 x_3 + x_4$ \n",
    "\n",
    "- Definição das restrições:\n",
    "\n",
    "\n",
    "    1. demanda da vitamina A: $2 x_1 + 2 x_2 + 10 x_3 + 20 x_4 \\geq 11$\n",
    "\n",
    "    2. demanda da vitamina C: $50 x_1 + 20 x_2 + 10 x_3 + 30 x_4 \\geq 70$\n",
    "\n",
    "    3. demanda da vitamina D: $80 x_1 + 70 x_2 + 10 x_3 + 80 x_4 \\geq 250$\n",
    "\n",
    "    4. não negatividade: $x_j \\geq 0, \\ j=1, \\ldots, 4$\n",
    "\n",
    "- Formulação do problema\n",
    "\n",
    "$\n",
    "\\begin{align} \\notag\n",
    "\\min \\ & 2 x_1 + 4 x_2 + 1,5 x_3 + x_4 \\\\ \\notag\n",
    "& 2 x_1 + 2 x_2 + 10 x_3 + 20 x_4 \\geq 11 \\\\ \\notag\n",
    "& 50 x_1 + 20 x_2 + 10 x_3 + 30 x_4 \\geq 70 \\\\ \\notag\n",
    "& 80 x_1 + 70 x_2 + 10 x_3 + 80 x_4 \\geq 250 \\\\ \\notag\n",
    "& x_j \\geq 0, \\ j=1, \\ldots, 4 \n",
    "\\end{align}\n",
    "$"
   ]
  },
  {
   "cell_type": "markdown",
   "metadata": {},
   "source": []
  },
  {
   "cell_type": "code",
   "execution_count": 1,
   "metadata": {},
   "outputs": [],
   "source": [
    "import gurobipy as gp\n",
    "from gurobipy import GRB"
   ]
  },
  {
   "cell_type": "code",
   "execution_count": 11,
   "metadata": {},
   "outputs": [],
   "source": [
    "# Create a new model\n",
    "dieta = gp.Model()"
   ]
  },
  {
   "cell_type": "code",
   "execution_count": 12,
   "metadata": {},
   "outputs": [],
   "source": [
    "# Create variables\n",
    "x1 = dieta.addVar(name=\"x1\")\n",
    "x2 = dieta.addVar(name=\"x2\")\n",
    "x3 = dieta.addVar(name=\"x3\")\n",
    "x4 = dieta.addVar(name=\"x4\")"
   ]
  },
  {
   "cell_type": "code",
   "execution_count": 13,
   "metadata": {},
   "outputs": [],
   "source": [
    "# Set objective\n",
    "dieta.setObjective(2*x1 + 4*x2 + x3 + x4, GRB.MINIMIZE)"
   ]
  },
  {
   "cell_type": "code",
   "execution_count": 14,
   "metadata": {},
   "outputs": [],
   "source": [
    "# Set constraint\n",
    "con1 = dieta.addConstr(2*x1 + 2*x2 + 10*x3 + 20*x4 >= 11, \"restri1\")\n",
    "con2 = dieta.addConstr(50*x1 + 20*x2 + 10*x3 + 30*x4 >= 70, \"restri2\")\n",
    "con3 = dieta.addConstr(80*x1 + 70*x2 + 10*x3 + 80*x4 >= 250, \"restri3\")"
   ]
  },
  {
   "cell_type": "code",
   "execution_count": 15,
   "metadata": {},
   "outputs": [],
   "source": [
    "# save model for inspection\n",
    "dieta.write('dieta.lp')"
   ]
  },
  {
   "cell_type": "code",
   "execution_count": 16,
   "metadata": {},
   "outputs": [
    {
     "name": "stdout",
     "output_type": "stream",
     "text": [
      "Gurobi Optimizer version 10.0.0 build v10.0.0rc2 (linux64)\n",
      "\n",
      "CPU model: Intel(R) Core(TM) i5-1035G1 CPU @ 1.00GHz, instruction set [SSE2|AVX|AVX2|AVX512]\n",
      "Thread count: 4 physical cores, 8 logical processors, using up to 8 threads\n",
      "\n",
      "Optimize a model with 3 rows, 4 columns and 12 nonzeros\n",
      "Model fingerprint: 0x97860369\n",
      "Coefficient statistics:\n",
      "  Matrix range     [2e+00, 8e+01]\n",
      "  Objective range  [1e+00, 4e+00]\n",
      "  Bounds range     [0e+00, 0e+00]\n",
      "  RHS range        [1e+01, 2e+02]\n",
      "Presolve removed 0 rows and 2 columns\n",
      "Presolve time: 0.01s\n",
      "Presolved: 3 rows, 2 columns, 6 nonzeros\n",
      "\n",
      "Iteration    Objective       Primal Inf.    Dual Inf.      Time\n",
      "       0    0.0000000e+00   5.975000e+01   0.000000e+00      0s\n",
      "       1    3.1250000e+00   0.000000e+00   0.000000e+00      0s\n",
      "\n",
      "Solved in 1 iterations and 0.01 seconds (0.00 work units)\n",
      "Optimal objective  3.125000000e+00\n"
     ]
    }
   ],
   "source": [
    "# Optimize model\n",
    "dieta.optimize()"
   ]
  },
  {
   "cell_type": "code",
   "execution_count": null,
   "metadata": {},
   "outputs": [],
   "source": [
    "# imprime solução e valor ótimo\n",
    "\n",
    "for v in dieta.getVars():\n",
    "    print('%s = %g' % (v.VarName, v.X))\n",
    "\n",
    "print('Obj: %g' % dieta.ObjVal)\n",
    "\n",
    "print('Runtime: %g' % dieta.Runtime)"
   ]
  },
  {
   "cell_type": "code",
   "execution_count": 20,
   "metadata": {},
   "outputs": [],
   "source": [
    "# limpa todos os recursos associados ao objeto dieta\n",
    "dieta.dispose()"
   ]
  },
  {
   "cell_type": "code",
   "execution_count": null,
   "metadata": {},
   "outputs": [],
   "source": []
  }
 ],
 "metadata": {
  "kernelspec": {
   "display_name": "Python 3",
   "language": "python",
   "name": "python3"
  },
  "language_info": {
   "codemirror_mode": {
    "name": "ipython",
    "version": 3
   },
   "file_extension": ".py",
   "mimetype": "text/x-python",
   "name": "python",
   "nbconvert_exporter": "python",
   "pygments_lexer": "ipython3",
   "version": "3.10.12"
  }
 },
 "nbformat": 4,
 "nbformat_minor": 2
}
